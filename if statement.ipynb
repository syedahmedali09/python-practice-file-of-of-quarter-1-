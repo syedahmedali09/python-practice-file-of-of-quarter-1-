{
 "cells": [
  {
   "cell_type": "code",
   "execution_count": 3,
   "metadata": {},
   "outputs": [
    {
     "name": "stdout",
     "output_type": "stream",
     "text": [
      "a is less than b\n",
      "hello a\n",
      "hello b\n",
      "hello pyton \n"
     ]
    }
   ],
   "source": [
    "a = 100 #[] : it show the block.make body of the if statement mustly line in the form of intend]\n",
    "b =200           #[ change the position of line body of if is end],start same intend \n",
    "\n",
    "if a<b:\n",
    "    print('a is less than b')\n",
    "    print('hello a')          # [it three line are intend]  [it is body of  if] \n",
    "    print('hello b')\n",
    "print ('hello pyton ')         # [it not part of  if block ] \n",
    "    "
   ]
  },
  {
   "cell_type": "code",
   "execution_count": 10,
   "metadata": {},
   "outputs": [
    {
     "name": "stdout",
     "output_type": "stream",
     "text": [
      "pakistan\n"
     ]
    }
   ],
   "source": [
    "a =100 \n",
    "b =200 \n",
    "\n",
    "if a>b:\n",
    "    print('b is less than a')\n",
    "print('pakistan')  \n"
   ]
  },
  {
   "cell_type": "code",
   "execution_count": 16,
   "metadata": {},
   "outputs": [],
   "source": [
    "a =300\n",
    "b =300\n",
    "\n",
    "if a<b:                          # body is not execute because of false print \n",
    "    print('a is greater than b')\n",
    "    print('b is less than a')\n",
    "print('')"
   ]
  },
  {
   "cell_type": "code",
   "execution_count": 19,
   "metadata": {},
   "outputs": [
    {
     "name": "stdout",
     "output_type": "stream",
     "text": [
      "a is less than c\n",
      "c is greater than a\n"
     ]
    }
   ],
   "source": [
    "a =330 \n",
    "c =340\n",
    "if a>b:\n",
    "    print('a is less than c')\n",
    "    print('c is greater than a')"
   ]
  },
  {
   "cell_type": "code",
   "execution_count": null,
   "metadata": {},
   "outputs": [],
   "source": []
  }
 ],
 "metadata": {
  "kernelspec": {
   "display_name": "Python 3",
   "language": "python",
   "name": "python3"
  },
  "language_info": {
   "codemirror_mode": {
    "name": "ipython",
    "version": 3
   },
   "file_extension": ".py",
   "mimetype": "text/x-python",
   "name": "python",
   "nbconvert_exporter": "python",
   "pygments_lexer": "ipython3",
   "version": "3.7.6"
  }
 },
 "nbformat": 4,
 "nbformat_minor": 4
}
