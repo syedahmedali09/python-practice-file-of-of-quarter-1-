{
 "cells": [
  {
   "cell_type": "code",
   "execution_count": 1,
   "metadata": {},
   "outputs": [],
   "source": [
    "#loop countinue execute all value / mem by default if you loop is termminate use break loop\n",
    "arr=[1,2,3,4,5,6,7,89,0]"
   ]
  },
  {
   "cell_type": "code",
   "execution_count": 2,
   "metadata": {},
   "outputs": [
    {
     "name": "stdout",
     "output_type": "stream",
     "text": [
      "1\n",
      "2\n",
      "3\n",
      "4\n",
      "5\n"
     ]
    }
   ],
   "source": [
    "for num in arr:               #this number in index number\n",
    "    if num == 6:\n",
    "        break\n",
    "    print(num)"
   ]
  },
  {
   "cell_type": "code",
   "execution_count": 3,
   "metadata": {},
   "outputs": [],
   "source": [
    "mobile_model=['s1','s2','s3','s4','s5','note2','note5','note8']"
   ]
  },
  {
   "cell_type": "code",
   "execution_count": 4,
   "metadata": {},
   "outputs": [
    {
     "name": "stdout",
     "output_type": "stream",
     "text": [
      "s1\n",
      "s2\n",
      "s3\n",
      "s4\n"
     ]
    }
   ],
   "source": [
    "for news_model in mobile_model:\n",
    "    if news_model == 's5':\n",
    "        break\n",
    "    print(news_model)"
   ]
  },
  {
   "cell_type": "code",
   "execution_count": 5,
   "metadata": {},
   "outputs": [
    {
     "name": "stdout",
     "output_type": "stream",
     "text": [
      "s1\n",
      "s2\n",
      "s3\n",
      "s4\n",
      "s5\n",
      "note2\n",
      "note5\n"
     ]
    }
   ],
   "source": [
    "for news_model in mobile_model:\n",
    "    if news_model == 'note8':\n",
    "        break\n",
    "    print(news_model)"
   ]
  },
  {
   "cell_type": "code",
   "execution_count": 6,
   "metadata": {},
   "outputs": [],
   "source": [
    "cities= ('karachi','multan','honkong','dehli','peshwar','hyderabad','islamabad')"
   ]
  },
  {
   "cell_type": "code",
   "execution_count": 7,
   "metadata": {},
   "outputs": [
    {
     "name": "stdout",
     "output_type": "stream",
     "text": [
      "karachi\n",
      "multan\n"
     ]
    }
   ],
   "source": [
    "for our_city in cities:\n",
    "    if our_city == \"honkong\":\n",
    "        break\n",
    "    print(our_city)"
   ]
  },
  {
   "cell_type": "code",
   "execution_count": 8,
   "metadata": {},
   "outputs": [],
   "source": [
    "num =[2,32,54,36,1,21,6,84,3,5,25,8,64,32]"
   ]
  },
  {
   "cell_type": "code",
   "execution_count": 9,
   "metadata": {},
   "outputs": [
    {
     "name": "stdout",
     "output_type": "stream",
     "text": [
      "2\n",
      "32\n",
      "54\n",
      "36\n",
      "1\n",
      "21\n",
      "6\n",
      "84\n",
      "3\n",
      "5\n",
      "25\n",
      "8\n"
     ]
    }
   ],
   "source": [
    "for multiply_2 in num:\n",
    "    if multiply_2/2==32:\n",
    "        break\n",
    "    print(multiply_2)"
   ]
  },
  {
   "cell_type": "code",
   "execution_count": 10,
   "metadata": {},
   "outputs": [
    {
     "name": "stdout",
     "output_type": "stream",
     "text": [
      "2\n",
      "32\n",
      "54\n",
      "36\n"
     ]
    }
   ],
   "source": [
    "num2 =[2,32,54,36,1,21,6,84,3,5,25,8,64,32]# this method use check and get even in list odd number\n",
    "for odd_num in num2:                       # pass loop is break\n",
    "    if odd_num%2!=0:\n",
    "        break\n",
    "    print(odd_num)"
   ]
  },
  {
   "cell_type": "code",
   "execution_count": 11,
   "metadata": {},
   "outputs": [
    {
     "name": "stdout",
     "output_type": "stream",
     "text": [
      "0\n",
      "1\n",
      "2\n",
      "3\n",
      "4\n",
      "5\n",
      "6\n",
      "7\n",
      "8\n",
      "9\n",
      "10\n",
      "11\n"
     ]
    }
   ],
   "source": [
    "num2 =[2,32,54,36,1,21,6,84,3,5,25,8,64,32]\n",
    "for num3 in range(15):\n",
    "    if num3 == 12:\n",
    "        break\n",
    "    print(num3)"
   ]
  },
  {
   "cell_type": "code",
   "execution_count": 12,
   "metadata": {},
   "outputs": [],
   "source": [
    "for num in num2:\n",
    "    if num3%2 == 0:\n",
    "        continue\n",
    "    print(\"num3\")\n",
    "    "
   ]
  },
  {
   "cell_type": "code",
   "execution_count": 13,
   "metadata": {},
   "outputs": [
    {
     "name": "stdout",
     "output_type": "stream",
     "text": [
      "2\n",
      "32\n",
      "54\n",
      "36\n",
      "6\n",
      "84\n",
      "8\n",
      "64\n",
      "32\n"
     ]
    }
   ],
   "source": [
    "num2 =[2,32,54,36,1,21,6,84,3,5,25,8,64,32]# this method use for remove odd number\n",
    "for even_num in num2:                       # in value use !=\n",
    "    if even_num%2!=0: \n",
    "        continue\n",
    "    print(even_num)"
   ]
  },
  {
   "cell_type": "code",
   "execution_count": 14,
   "metadata": {},
   "outputs": [
    {
     "name": "stdout",
     "output_type": "stream",
     "text": [
      "1\n",
      "21\n",
      "3\n",
      "5\n",
      "25\n"
     ]
    }
   ],
   "source": [
    "num2 =[2,32,54,36,1,21,6,84,3,5,25,8,64,32]# this method use for get odd number\n",
    "for odd_num in num2:                       # in value use !=\n",
    "    if odd_num%2==0:                 #this number in index number\n",
    "        continue        #condition is neglet the value from lits\n",
    "    print(odd_num)"
   ]
  },
  {
   "cell_type": "code",
   "execution_count": 15,
   "metadata": {},
   "outputs": [
    {
     "name": "stdout",
     "output_type": "stream",
     "text": [
      "0\n",
      "1\n",
      "2\n",
      "3\n",
      "4\n",
      "5\n",
      "6\n",
      "7\n",
      "8\n",
      "9\n",
      "10\n",
      "11\n",
      "12\n",
      "13\n",
      "14\n",
      "15\n",
      "16\n",
      "17\n",
      "18\n",
      "19\n",
      "20\n",
      "21\n",
      "22\n",
      "23\n",
      "24\n",
      "25\n",
      "26\n",
      "27\n"
     ]
    }
   ],
   "source": [
    "for num4 in range (28):\n",
    "    print(num4)"
   ]
  },
  {
   "cell_type": "code",
   "execution_count": 16,
   "metadata": {},
   "outputs": [
    {
     "name": "stdout",
     "output_type": "stream",
     "text": [
      "0\n",
      "1\n",
      "2\n",
      "3\n",
      "4\n",
      "5\n",
      "6\n",
      "7\n",
      "8\n",
      "9\n",
      "10\n",
      "11\n",
      "13\n",
      "14\n",
      "15\n",
      "16\n",
      "17\n",
      "18\n",
      "19\n",
      "20\n",
      "21\n",
      "22\n",
      "23\n"
     ]
    }
   ],
   "source": [
    "num4\n",
    "for number1 in range(24): #this number in index number\n",
    "    if number1==(12):\n",
    "        continue\n",
    "    print(number1)"
   ]
  },
  {
   "cell_type": "code",
   "execution_count": 17,
   "metadata": {},
   "outputs": [
    {
     "name": "stdout",
     "output_type": "stream",
     "text": [
      "s1\n",
      "s2\n",
      "s4\n",
      "s5\n",
      "note2\n",
      "note5\n",
      "note8\n"
     ]
    }
   ],
   "source": [
    "for mobile in mobile_model:\n",
    "    if mobile == 's3':\n",
    "        continue\n",
    "    print(mobile)"
   ]
  },
  {
   "cell_type": "code",
   "execution_count": 18,
   "metadata": {},
   "outputs": [
    {
     "data": {
      "text/plain": [
       "[7230614,\n",
       " 6207,\n",
       " 4768624,\n",
       " 96,\n",
       " 107407,\n",
       " 7407,\n",
       " 650127,\n",
       " -280,\n",
       " 2,\n",
       " 32,\n",
       " 54,\n",
       " 36,\n",
       " 1,\n",
       " 21,\n",
       " 6,\n",
       " 84,\n",
       " 3,\n",
       " 5,\n",
       " 25,\n",
       " 8,\n",
       " 64,\n",
       " 32]"
      ]
     },
     "execution_count": 18,
     "metadata": {},
     "output_type": "execute_result"
    }
   ],
   "source": [
    "num4=[7230614,6207,4768624,96,107407,7407,650127,7-287,2, 32, 54, 36, 1, 21, 6, 84, 3, 5, 25, 8, 64, 32]\n",
    "num4"
   ]
  },
  {
   "cell_type": "code",
   "execution_count": 19,
   "metadata": {},
   "outputs": [
    {
     "data": {
      "text/plain": [
       "[2, 32, 54, 36, 1, 21, 6, 84, 3, 5, 25, 8, 64, 32]"
      ]
     },
     "execution_count": 19,
     "metadata": {},
     "output_type": "execute_result"
    }
   ],
   "source": [
    "num2"
   ]
  },
  {
   "cell_type": "code",
   "execution_count": 20,
   "metadata": {},
   "outputs": [
    {
     "name": "stdout",
     "output_type": "stream",
     "text": [
      "2\n",
      "32\n",
      "54\n",
      "36\n",
      "1\n",
      "21\n",
      "84\n",
      "3\n",
      "5\n",
      "25\n",
      "8\n",
      "64\n",
      "32\n"
     ]
    }
   ],
   "source": [
    "for numd in num2:\n",
    "    if numd==6:\n",
    "        continue\n",
    "    print(numd)"
   ]
  },
  {
   "cell_type": "code",
   "execution_count": null,
   "metadata": {},
   "outputs": [],
   "source": []
  }
 ],
 "metadata": {
  "kernelspec": {
   "display_name": "Python 3",
   "language": "python",
   "name": "python3"
  },
  "language_info": {
   "codemirror_mode": {
    "name": "ipython",
    "version": 3
   },
   "file_extension": ".py",
   "mimetype": "text/x-python",
   "name": "python",
   "nbconvert_exporter": "python",
   "pygments_lexer": "ipython3",
   "version": "3.7.6"
  }
 },
 "nbformat": 4,
 "nbformat_minor": 4
}
