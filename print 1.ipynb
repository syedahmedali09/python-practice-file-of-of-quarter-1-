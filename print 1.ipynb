{
 "cells": [
  {
   "cell_type": "code",
   "execution_count": 1,
   "metadata": {},
   "outputs": [
    {
     "name": "stdout",
     "output_type": "stream",
     "text": [
      "123\n"
     ]
    }
   ],
   "source": [
    "print(123)"
   ]
  },
  {
   "cell_type": "code",
   "execution_count": 2,
   "metadata": {},
   "outputs": [
    {
     "name": "stdout",
     "output_type": "stream",
     "text": [
      "piaic ahmed\n"
     ]
    }
   ],
   "source": [
    "print('piaic','ahmed')"
   ]
  },
  {
   "cell_type": "code",
   "execution_count": 3,
   "metadata": {},
   "outputs": [
    {
     "name": "stdout",
     "output_type": "stream",
     "text": [
      "karachi\n",
      "python\n",
      "hello friend\n"
     ]
    }
   ],
   "source": [
    "print('karachi',sep='@')\n",
    "print('python')\n",
    "print('hello','friend')"
   ]
  },
  {
   "cell_type": "code",
   "execution_count": 4,
   "metadata": {},
   "outputs": [
    {
     "name": "stdout",
     "output_type": "stream",
     "text": [
      "123 @ 789 @ 12.9 @ 87 @ 132.89\n"
     ]
    }
   ],
   "source": [
    "print(123,789,12.90,87,132.89,sep=' @ ')"
   ]
  },
  {
   "cell_type": "code",
   "execution_count": 5,
   "metadata": {},
   "outputs": [
    {
     "name": "stdout",
     "output_type": "stream",
     "text": [
      "good   python  good  language\n"
     ]
    }
   ],
   "source": [
    "print('good ','python', 'good', 'language',sep='  ')"
   ]
  },
  {
   "cell_type": "code",
   "execution_count": 6,
   "metadata": {},
   "outputs": [
    {
     "name": "stdout",
     "output_type": "stream",
     "text": [
      "artificial $$$$ inteligence $$$$ blockchain\n"
     ]
    }
   ],
   "source": [
    "print('artificial','inteligence','blockchain',sep=' $$$$ ')"
   ]
  },
  {
   "cell_type": "code",
   "execution_count": 7,
   "metadata": {},
   "outputs": [
    {
     "name": "stdout",
     "output_type": "stream",
     "text": [
      "backspace end=\n",
      "\n",
      "check the ecape character\n"
     ]
    }
   ],
   "source": [
    "print('backspace','end=\\n')\n",
    "print('check','the','ecape','character')"
   ]
  },
  {
   "cell_type": "code",
   "execution_count": 8,
   "metadata": {},
   "outputs": [
    {
     "name": "stdout",
     "output_type": "stream",
     "text": [
      "check ali the ali ecape ali character\n"
     ]
    }
   ],
   "source": [
    "print('check','the','ecape','character',sep=' ali ')"
   ]
  },
  {
   "cell_type": "code",
   "execution_count": 23,
   "metadata": {},
   "outputs": [
    {
     "name": "stdout",
     "output_type": "stream",
     "text": [
      "check the ecape character\n",
      "artificial inteligence blockchain\n"
     ]
    }
   ],
   "source": [
    "print('check','the','ecape','character',end='\\n')\n",
    "print('artificial','inteligence','blockchain')"
   ]
  },
  {
   "cell_type": "code",
   "execution_count": null,
   "metadata": {},
   "outputs": [],
   "source": []
  },
  {
   "cell_type": "code",
   "execution_count": null,
   "metadata": {},
   "outputs": [],
   "source": []
  }
 ],
 "metadata": {
  "kernelspec": {
   "display_name": "Python 3",
   "language": "python",
   "name": "python3"
  },
  "language_info": {
   "codemirror_mode": {
    "name": "ipython",
    "version": 3
   },
   "file_extension": ".py",
   "mimetype": "text/x-python",
   "name": "python",
   "nbconvert_exporter": "python",
   "pygments_lexer": "ipython3",
   "version": "3.7.6"
  }
 },
 "nbformat": 4,
 "nbformat_minor": 4
}
