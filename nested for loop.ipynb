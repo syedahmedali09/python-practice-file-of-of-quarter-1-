{
 "cells": [
  {
   "cell_type": "code",
   "execution_count": 1,
   "metadata": {},
   "outputs": [],
   "source": [
    "#nested loop use for multiple loop in one block"
   ]
  },
  {
   "cell_type": "code",
   "execution_count": 2,
   "metadata": {},
   "outputs": [
    {
     "name": "stdout",
     "output_type": "stream",
     "text": [
      "Inner loop begins\n",
      "0 c\n",
      "0 h\n",
      "0 i\n",
      "0 n\n",
      "0 a\n",
      "Inner loop begins\n",
      "1 c\n",
      "1 h\n",
      "1 i\n",
      "1 n\n",
      "1 a\n",
      "Inner loop begins\n",
      "2 c\n",
      "2 h\n",
      "2 i\n",
      "2 n\n",
      "2 a\n",
      "Inner loop begins\n",
      "3 c\n",
      "3 h\n",
      "3 i\n",
      "3 n\n",
      "3 a\n",
      "Inner loop begins\n",
      "4 c\n",
      "4 h\n",
      "4 i\n",
      "4 n\n",
      "4 a\n"
     ]
    }
   ],
   "source": [
    "for a in range (5):\n",
    "    print(\"Inner loop begins\")\n",
    "    for char in \"china\":\n",
    "        print (a,char)"
   ]
  },
  {
   "cell_type": "code",
   "execution_count": 3,
   "metadata": {},
   "outputs": [
    {
     "name": "stdout",
     "output_type": "stream",
     "text": [
      "Inner loop begins\n",
      "0 pakistan\n",
      "0 japan\n",
      "0 turki\n",
      "0 arab\n",
      "Inner loop begins\n",
      "1 pakistan\n",
      "1 japan\n",
      "1 turki\n",
      "1 arab\n",
      "Inner loop begins\n",
      "2 pakistan\n",
      "2 japan\n",
      "2 turki\n",
      "2 arab\n",
      "Inner loop begins\n",
      "3 pakistan\n",
      "3 japan\n",
      "3 turki\n",
      "3 arab\n",
      "Inner loop begins\n",
      "4 pakistan\n",
      "4 japan\n",
      "4 turki\n",
      "4 arab\n"
     ]
    }
   ],
   "source": [
    "for a in range(5):\n",
    "    print(\"Inner loop begins\")\n",
    "    for city in ('pakistan','japan','turki','arab'):\n",
    "        print (a,city)"
   ]
  },
  {
   "cell_type": "code",
   "execution_count": 4,
   "metadata": {},
   "outputs": [
    {
     "name": "stdout",
     "output_type": "stream",
     "text": [
      "Inner loop begins\n",
      "1 c\n",
      "1 h\n",
      "1 i\n",
      "1 n\n",
      "1 a\n",
      "Inner loop begins\n",
      "2 c\n",
      "2 h\n",
      "2 i\n",
      "2 n\n",
      "2 a\n",
      "Inner loop begins\n",
      "3 c\n",
      "3 h\n",
      "3 i\n",
      "3 n\n",
      "3 a\n",
      "Inner loop begins\n",
      "4 c\n",
      "4 h\n",
      "4 i\n",
      "4 n\n",
      "4 a\n",
      "Inner loop begins\n",
      "5 c\n",
      "5 h\n",
      "5 i\n",
      "5 n\n",
      "5 a\n",
      "Inner loop begins\n",
      "6 c\n",
      "6 h\n",
      "6 i\n",
      "6 n\n",
      "6 a\n",
      "Inner loop begins\n",
      "7 c\n",
      "7 h\n",
      "7 i\n",
      "7 n\n",
      "7 a\n"
     ]
    }
   ],
   "source": [
    "list_tupple=[1,2,3,4,5,6,7]\n",
    "for a in list_tupple:\n",
    "    print(\"Inner loop begins\")\n",
    "    for char in \"china\":\n",
    "        print (a,char)"
   ]
  },
  {
   "cell_type": "code",
   "execution_count": 5,
   "metadata": {},
   "outputs": [
    {
     "name": "stdout",
     "output_type": "stream",
     "text": [
      "Inner loop begins\n",
      "ali pakistan\n",
      "ali japan\n",
      "ali turki\n",
      "ali arab\n",
      "Inner loop begins\n",
      "khan pakistan\n",
      "khan japan\n",
      "khan turki\n",
      "khan arab\n",
      "Inner loop begins\n",
      "jan pakistan\n",
      "jan japan\n",
      "jan turki\n",
      "jan arab\n",
      "Inner loop begins\n",
      "ertugal pakistan\n",
      "ertugal japan\n",
      "ertugal turki\n",
      "ertugal arab\n"
     ]
    }
   ],
   "source": [
    "list_tupples=['ali','khan','jan','ertugal']\n",
    "for a in list_tupples:\n",
    "    print(\"Inner loop begins\")\n",
    "    for city in ('pakistan','japan','turki','arab'):\n",
    "        print (a,city)"
   ]
  },
  {
   "cell_type": "code",
   "execution_count": 6,
   "metadata": {},
   "outputs": [
    {
     "name": "stdout",
     "output_type": "stream",
     "text": [
      "1 c\n",
      "1 h\n",
      "1 i\n",
      "1 n\n",
      "1 a\n",
      "2 c\n",
      "2 h\n",
      "2 i\n",
      "2 n\n",
      "2 a\n",
      "3 c\n",
      "3 h\n",
      "3 i\n",
      "3 n\n",
      "3 a\n",
      "4 c\n",
      "4 h\n",
      "4 i\n",
      "4 n\n",
      "4 a\n",
      "5 c\n",
      "5 h\n",
      "5 i\n",
      "5 n\n",
      "5 a\n",
      "6 c\n",
      "6 h\n",
      "6 i\n",
      "6 n\n",
      "6 a\n",
      "7 c\n",
      "7 h\n",
      "7 i\n",
      "7 n\n",
      "7 a\n"
     ]
    }
   ],
   "source": [
    "list_tupple=[1,2,3,4,5,6,7]\n",
    "for a in list_tupple:\n",
    "    for char in \"china\":\n",
    "        print (a,char)"
   ]
  },
  {
   "cell_type": "code",
   "execution_count": 7,
   "metadata": {},
   "outputs": [
    {
     "name": "stdout",
     "output_type": "stream",
     "text": [
      "0 c\n",
      "0 h\n",
      "0 i\n",
      "0 n\n",
      "0 a\n",
      "1 c\n",
      "1 h\n",
      "1 i\n",
      "1 n\n",
      "1 a\n",
      "2 c\n",
      "2 h\n",
      "2 i\n",
      "2 n\n",
      "2 a\n"
     ]
    }
   ],
   "source": [
    "for a in range(3):\n",
    "    for char in \"china\":\n",
    "        print (a,char)"
   ]
  },
  {
   "cell_type": "code",
   "execution_count": 14,
   "metadata": {},
   "outputs": [
    {
     "name": "stdout",
     "output_type": "stream",
     "text": [
      "0 china\n",
      "0 pakistan\n",
      "1 china\n",
      "1 pakistan\n",
      "2 china\n",
      "2 pakistan\n"
     ]
    }
   ],
   "source": [
    "for a in range(3):\n",
    "    for char in \"china\",\"pakistan\":\n",
    "        print (a,char)"
   ]
  },
  {
   "cell_type": "code",
   "execution_count": 8,
   "metadata": {},
   "outputs": [
    {
     "name": "stdout",
     "output_type": "stream",
     "text": [
      "enter table number2\n",
      "2*1 = 2\n",
      "2*2 = 4\n",
      "2*3 = 6\n",
      "2*4 = 8\n",
      "2*5 = 10\n",
      "2*6 = 12\n",
      "2*7 = 14\n",
      "2*8 = 16\n",
      "2*9 = 18\n",
      "2*10 = 20\n"
     ]
    }
   ],
   "source": [
    "tablenumber=int(input('enter table number'))\n",
    "for a in range (1,11):\n",
    "    print(f\"{tablenumber}*{a} = {tablenumber*a}\")"
   ]
  },
  {
   "cell_type": "code",
   "execution_count": 9,
   "metadata": {},
   "outputs": [
    {
     "name": "stdout",
     "output_type": "stream",
     "text": [
      "enter table number3\n",
      "3*1 = 3\n",
      "3*2 = 6\n",
      "3*3 = 9\n",
      "3*4 = 12\n",
      "3*5 = 15\n",
      "3*6 = 18\n",
      "3*7 = 21\n",
      "3*8 = 24\n",
      "3*9 = 27\n",
      "3*10 = 30\n"
     ]
    }
   ],
   "source": [
    "TABLE_NUMBER =int(input('enter table number'))\n",
    "for value_of_number in range (1,11):\n",
    "     print(f\"{TABLE_NUMBER}*{value_of_number} = {TABLE_NUMBER*value_of_number}\")"
   ]
  },
  {
   "cell_type": "code",
   "execution_count": 10,
   "metadata": {},
   "outputs": [
    {
     "name": "stdout",
     "output_type": "stream",
     "text": [
      "enter table number2\n",
      "2*2*3 = 12\n"
     ]
    }
   ],
   "source": [
    "TABLE_NUMBER =int(input('enter table number'))\n",
    "for value_of_number in range (3,4):\n",
    "     print(f\"{TABLE_NUMBER}*{TABLE_NUMBER}*{value_of_number} = {TABLE_NUMBER*TABLE_NUMBER*value_of_number}\")"
   ]
  },
  {
   "cell_type": "code",
   "execution_count": 11,
   "metadata": {},
   "outputs": [
    {
     "name": "stdout",
     "output_type": "stream",
     "text": [
      "enter table number4\n",
      "4*4*2 = 32\n",
      "4*4*3 = 48\n"
     ]
    }
   ],
   "source": [
    "TABLE_NUMBER =int(input('enter table number'))\n",
    "for value_of_number in range (2,4):\n",
    "     print(f\"{TABLE_NUMBER}*{TABLE_NUMBER}*{value_of_number} = {TABLE_NUMBER*TABLE_NUMBER*value_of_number}\")"
   ]
  },
  {
   "cell_type": "code",
   "execution_count": 12,
   "metadata": {},
   "outputs": [
    {
     "name": "stdout",
     "output_type": "stream",
     "text": [
      "Enter a table5\n",
      "2*1 =2\n",
      "2*2 =4\n",
      "2*3 =6\n",
      "2*4 =8\n",
      "2*5 =10\n",
      "2*6 =12\n",
      "2*7 =14\n",
      "2*8 =16\n",
      "2*9 =18\n",
      "2*10 =20\n",
      "3*1 =3\n",
      "3*2 =6\n",
      "3*3 =9\n",
      "3*4 =12\n",
      "3*5 =15\n",
      "3*6 =18\n",
      "3*7 =21\n",
      "3*8 =24\n",
      "3*9 =27\n",
      "3*10 =30\n",
      "4*1 =4\n",
      "4*2 =8\n",
      "4*3 =12\n",
      "4*4 =16\n",
      "4*5 =20\n",
      "4*6 =24\n",
      "4*7 =28\n",
      "4*8 =32\n",
      "4*9 =36\n",
      "4*10 =40\n",
      "5*1 =5\n",
      "5*2 =10\n",
      "5*3 =15\n",
      "5*4 =20\n",
      "5*5 =25\n",
      "5*6 =30\n",
      "5*7 =35\n",
      "5*8 =40\n",
      "5*9 =45\n",
      "5*10 =50\n"
     ]
    }
   ],
   "source": [
    "table=int(input(\"Enter a table\"))\n",
    "for table in range (2,table+1):\n",
    "    for num  in range (1,11):\n",
    "        print(f\"{table}*{num} ={table*num}\")"
   ]
  },
  {
   "cell_type": "code",
   "execution_count": 13,
   "metadata": {},
   "outputs": [
    {
     "name": "stdout",
     "output_type": "stream",
     "text": [
      "enter table number5\n",
      "5*5*1 = 25\n",
      "5*5*2 = 50\n",
      "5*5*3 = 75\n",
      "5*5*4 = 100\n",
      "5*5*5 = 125\n",
      "5*5*6 = 150\n",
      "5*5*7 = 175\n",
      "5*5*8 = 200\n",
      "5*5*9 = 225\n",
      "5*5*10 = 250\n"
     ]
    }
   ],
   "source": [
    "TABLE_NUMBER =int(input('enter table number'))\n",
    "for value_of_number in range (1,11):\n",
    "     print(f\"{TABLE_NUMBER}*{TABLE_NUMBER}*{value_of_number} = {TABLE_NUMBER*TABLE_NUMBER*value_of_number}\")"
   ]
  },
  {
   "cell_type": "code",
   "execution_count": null,
   "metadata": {},
   "outputs": [],
   "source": []
  }
 ],
 "metadata": {
  "kernelspec": {
   "display_name": "Python 3",
   "language": "python",
   "name": "python3"
  },
  "language_info": {
   "codemirror_mode": {
    "name": "ipython",
    "version": 3
   },
   "file_extension": ".py",
   "mimetype": "text/x-python",
   "name": "python",
   "nbconvert_exporter": "python",
   "pygments_lexer": "ipython3",
   "version": "3.7.6"
  }
 },
 "nbformat": 4,
 "nbformat_minor": 4
}
