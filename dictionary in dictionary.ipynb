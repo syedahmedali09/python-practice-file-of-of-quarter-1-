{
 "cells": [
  {
   "cell_type": "code",
   "execution_count": 1,
   "metadata": {},
   "outputs": [],
   "source": [
    "employee={\"Name\":\"shams\",\"childern\":{\"unknowpeople\":{\"age\":[\"34\",\"35\",\"37\"],\"class\":[\"a_level\",\"o_level\"],\"cast\":[\"pakistani\",\"indian\"]}}}\n"
   ]
  },
  {
   "cell_type": "code",
   "execution_count": 2,
   "metadata": {},
   "outputs": [
    {
     "data": {
      "text/plain": [
       "('37', 'o_level')"
      ]
     },
     "execution_count": 2,
     "metadata": {},
     "output_type": "execute_result"
    }
   ],
   "source": [
    "employee[\"childern\"][\"unknowpeople\"][\"age\"][2],employee[\"childern\"][\"unknowpeople\"][\"class\"][1]"
   ]
  },
  {
   "cell_type": "code",
   "execution_count": 3,
   "metadata": {},
   "outputs": [],
   "source": [
    "employee={\"Name\":\"shams\",\"childern\":{\"unknowpeople\":{\"age\":[\"34\",\"35\",\"37\"],\"class\":[\"a_level\",\"o_level\"],\"cast\":{\"pakistani\",\"indian\"},\"GENDER\":{\"MALE\":\"FEMALE\"}}}}"
   ]
  },
  {
   "cell_type": "code",
   "execution_count": 4,
   "metadata": {},
   "outputs": [],
   "source": [
    "employee[\"key1\"]=\"add a key\""
   ]
  },
  {
   "cell_type": "code",
   "execution_count": 5,
   "metadata": {},
   "outputs": [
    {
     "data": {
      "text/plain": [
       "{'Name': 'shams',\n",
       " 'childern': {'unknowpeople': {'age': ['34', '35', '37'],\n",
       "   'class': ['a_level', 'o_level'],\n",
       "   'cast': {'indian', 'pakistani'},\n",
       "   'GENDER': {'MALE': 'FEMALE'}}},\n",
       " 'key1': 'add a key'}"
      ]
     },
     "execution_count": 5,
     "metadata": {},
     "output_type": "execute_result"
    }
   ],
   "source": [
    "employee"
   ]
  },
  {
   "cell_type": "code",
   "execution_count": 8,
   "metadata": {},
   "outputs": [],
   "source": [
    "employee[\"dictionary\"]={\"name\":\"rizwan\"}"
   ]
  },
  {
   "cell_type": "code",
   "execution_count": 9,
   "metadata": {},
   "outputs": [
    {
     "data": {
      "text/plain": [
       "{'Name': 'shams',\n",
       " 'childern': {'unknowpeople': {'age': ['34', '35', '37'],\n",
       "   'class': ['a_level', 'o_level'],\n",
       "   'cast': {'indian', 'pakistani'},\n",
       "   'GENDER': {'MALE': 'FEMALE'}}},\n",
       " 'key1': 'add a key',\n",
       " 'dictionary': {'name': 'rizwan'}}"
      ]
     },
     "execution_count": 9,
     "metadata": {},
     "output_type": "execute_result"
    }
   ],
   "source": [
    "employee"
   ]
  },
  {
   "cell_type": "code",
   "execution_count": null,
   "metadata": {},
   "outputs": [],
   "source": []
  }
 ],
 "metadata": {
  "kernelspec": {
   "display_name": "Python 3",
   "language": "python",
   "name": "python3"
  },
  "language_info": {
   "codemirror_mode": {
    "name": "ipython",
    "version": 3
   },
   "file_extension": ".py",
   "mimetype": "text/x-python",
   "name": "python",
   "nbconvert_exporter": "python",
   "pygments_lexer": "ipython3",
   "version": "3.7.6"
  }
 },
 "nbformat": 4,
 "nbformat_minor": 4
}
