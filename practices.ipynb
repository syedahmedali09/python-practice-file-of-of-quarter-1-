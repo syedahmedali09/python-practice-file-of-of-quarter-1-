{
 "cells": [
  {
   "cell_type": "code",
   "execution_count": 1,
   "metadata": {},
   "outputs": [],
   "source": [
    "a=[1,2,3,4,5,6,7,8,9]"
   ]
  },
  {
   "cell_type": "code",
   "execution_count": 2,
   "metadata": {},
   "outputs": [
    {
     "name": "stdout",
     "output_type": "stream",
     "text": [
      "[3, 4, 5]\n"
     ]
    }
   ],
   "source": [
    "print(a[2:-4])"
   ]
  },
  {
   "cell_type": "code",
   "execution_count": 3,
   "metadata": {},
   "outputs": [
    {
     "name": "stdout",
     "output_type": "stream",
     "text": [
      "i is equal to j\n",
      "i is equal to j\n",
      "i is equal to j\n",
      "i is equal to j\n"
     ]
    }
   ],
   "source": [
    "count=0\n",
    "a=[1,2,3,4,5,6,7,8,9]\n",
    "for i in range (len(a)):\n",
    "    for j in range (1,9,2):\n",
    "        if i==j:\n",
    "            print (\"i is equal to j\")\n",
    "        "
   ]
  },
  {
   "cell_type": "code",
   "execution_count": null,
   "metadata": {},
   "outputs": [],
   "source": []
  },
  {
   "cell_type": "code",
   "execution_count": null,
   "metadata": {},
   "outputs": [],
   "source": []
  },
  {
   "cell_type": "code",
   "execution_count": null,
   "metadata": {},
   "outputs": [],
   "source": []
  },
  {
   "cell_type": "code",
   "execution_count": null,
   "metadata": {},
   "outputs": [],
   "source": []
  },
  {
   "cell_type": "code",
   "execution_count": null,
   "metadata": {},
   "outputs": [],
   "source": []
  },
  {
   "cell_type": "code",
   "execution_count": 4,
   "metadata": {},
   "outputs": [],
   "source": [
    "_name=\"ali\""
   ]
  },
  {
   "cell_type": "code",
   "execution_count": 5,
   "metadata": {},
   "outputs": [
    {
     "name": "stdout",
     "output_type": "stream",
     "text": [
      " a is not equal to b\n"
     ]
    }
   ],
   "source": [
    "a=40\n",
    "b=50\n",
    "if a==b:\n",
    "    print(\"ture\")\n",
    "elif a>b:\n",
    "    print(\"a is greater than b\")\n",
    "elif a!=b:\n",
    "    print(\" a is not equal to b\")\n",
    "elif a>=b:\n",
    "    print(\"a is greaterand equal to b\")\n",
    "else:\n",
    "    print(\"sorry\")"
   ]
  },
  {
   "cell_type": "code",
   "execution_count": 6,
   "metadata": {},
   "outputs": [
    {
     "name": "stdout",
     "output_type": "stream",
     "text": [
      "ture\n"
     ]
    }
   ],
   "source": [
    "a=40\n",
    "b=40\n",
    "if a==b:\n",
    "    print(\"ture\")\n",
    "elif a>b:\n",
    "    print(\"a is greater than b\")\n",
    "elif a!=b:\n",
    "    print(\" a is not equal to b\")\n",
    "elif a>=b:\n",
    "    print(\"a is greaterand equal to b\")\n",
    "else:\n",
    "    print(\"sorry\")"
   ]
  },
  {
   "cell_type": "code",
   "execution_count": 7,
   "metadata": {},
   "outputs": [
    {
     "name": "stdout",
     "output_type": "stream",
     "text": [
      "a is greater than b\n"
     ]
    }
   ],
   "source": [
    "a=400\n",
    "b=40\n",
    "if a==b:\n",
    "    print(\"ture\")\n",
    "elif a>b:\n",
    "    print(\"a is greater than b\")\n",
    "elif a!=b:\n",
    "    print(\" a is not equal to b\")\n",
    "elif a>=b:\n",
    "    print(\"a is greaterand equal to b\")\n",
    "else:\n",
    "    print(\"sorry\")"
   ]
  },
  {
   "cell_type": "code",
   "execution_count": 8,
   "metadata": {},
   "outputs": [
    {
     "name": "stdout",
     "output_type": "stream",
     "text": [
      "enter the user input23\n"
     ]
    }
   ],
   "source": [
    "user_input=float(input('enter the user input'))"
   ]
  },
  {
   "cell_type": "code",
   "execution_count": 9,
   "metadata": {},
   "outputs": [],
   "source": [
    "list1=[\"name\",\"subject\",\"size\"]"
   ]
  },
  {
   "cell_type": "code",
   "execution_count": 10,
   "metadata": {},
   "outputs": [
    {
     "data": {
      "text/plain": [
       "['name', 'subject', 'size', 'area']"
      ]
     },
     "execution_count": 10,
     "metadata": {},
     "output_type": "execute_result"
    }
   ],
   "source": [
    "list1.append(\"area\")\n",
    "list1"
   ]
  },
  {
   "cell_type": "code",
   "execution_count": 11,
   "metadata": {},
   "outputs": [
    {
     "data": {
      "text/plain": [
       "['name', 'subject', 'unit', 'size', 'area']"
      ]
     },
     "execution_count": 11,
     "metadata": {},
     "output_type": "execute_result"
    }
   ],
   "source": [
    "list1.insert(2,\"unit\")\n",
    "list1"
   ]
  },
  {
   "cell_type": "code",
   "execution_count": 12,
   "metadata": {},
   "outputs": [
    {
     "data": {
      "text/plain": [
       "['name',\n",
       " 'subject',\n",
       " 'unit',\n",
       " 'size',\n",
       " 'area',\n",
       " 'speed',\n",
       " 'acelaretion',\n",
       " 'dimension']"
      ]
     },
     "execution_count": 12,
     "metadata": {},
     "output_type": "execute_result"
    }
   ],
   "source": [
    "list1.extend([\"speed\",\"acelaretion\",\"dimension\"])\n",
    "list1"
   ]
  },
  {
   "cell_type": "code",
   "execution_count": 13,
   "metadata": {},
   "outputs": [
    {
     "data": {
      "text/plain": [
       "['name', 'subject', 'unit', 'area', 'speed', 'acelaretion', 'dimension']"
      ]
     },
     "execution_count": 13,
     "metadata": {},
     "output_type": "execute_result"
    }
   ],
   "source": [
    "del list1[3]\n",
    "list1"
   ]
  },
  {
   "cell_type": "code",
   "execution_count": 14,
   "metadata": {},
   "outputs": [],
   "source": [
    "DICLIST=['name', 'subject', 'unit', 'area']"
   ]
  },
  {
   "cell_type": "code",
   "execution_count": 15,
   "metadata": {},
   "outputs": [],
   "source": [
    "DICLIST2=['speed', 'acelaretion', 'dimension',\"TIME\"]"
   ]
  },
  {
   "cell_type": "code",
   "execution_count": 16,
   "metadata": {},
   "outputs": [],
   "source": [
    "dict1=dict(zip(DICLIST,DICLIST2))"
   ]
  },
  {
   "cell_type": "code",
   "execution_count": 17,
   "metadata": {},
   "outputs": [
    {
     "data": {
      "text/plain": [
       "{'name': 'speed',\n",
       " 'subject': 'acelaretion',\n",
       " 'unit': 'dimension',\n",
       " 'area': 'TIME'}"
      ]
     },
     "execution_count": 17,
     "metadata": {},
     "output_type": "execute_result"
    }
   ],
   "source": [
    "dict1"
   ]
  },
  {
   "cell_type": "code",
   "execution_count": 18,
   "metadata": {},
   "outputs": [
    {
     "data": {
      "text/plain": [
       "[]"
      ]
     },
     "execution_count": 18,
     "metadata": {},
     "output_type": "execute_result"
    }
   ],
   "source": [
    "list1.clear()\n",
    "list1"
   ]
  },
  {
   "cell_type": "code",
   "execution_count": 19,
   "metadata": {},
   "outputs": [],
   "source": [
    "list2=['name',\n",
    " 'subject',\n",
    " 'unit',\n",
    " 'size',\n",
    " 'area',\n",
    " 'speed',\n",
    " 'acelaretion',\n",
    " 'dimension']"
   ]
  },
  {
   "cell_type": "code",
   "execution_count": 20,
   "metadata": {},
   "outputs": [],
   "source": [
    "list3=list2"
   ]
  },
  {
   "cell_type": "code",
   "execution_count": 21,
   "metadata": {},
   "outputs": [],
   "source": [
    "list3.extend([\"time\",\"direction\"])"
   ]
  },
  {
   "cell_type": "code",
   "execution_count": 22,
   "metadata": {},
   "outputs": [
    {
     "data": {
      "text/plain": [
       "['name',\n",
       " 'subject',\n",
       " 'unit',\n",
       " 'size',\n",
       " 'area',\n",
       " 'speed',\n",
       " 'acelaretion',\n",
       " 'dimension',\n",
       " 'time',\n",
       " 'direction']"
      ]
     },
     "execution_count": 22,
     "metadata": {},
     "output_type": "execute_result"
    }
   ],
   "source": [
    "list2"
   ]
  },
  {
   "cell_type": "code",
   "execution_count": 23,
   "metadata": {},
   "outputs": [
    {
     "data": {
      "text/plain": [
       "['name',\n",
       " 'subject',\n",
       " 'unit',\n",
       " 'size',\n",
       " 'area',\n",
       " 'speed',\n",
       " 'acelaretion',\n",
       " 'dimension',\n",
       " 'time']"
      ]
     },
     "execution_count": 23,
     "metadata": {},
     "output_type": "execute_result"
    }
   ],
   "source": [
    "list3.remove('direction')\n",
    "list3"
   ]
  },
  {
   "cell_type": "code",
   "execution_count": 24,
   "metadata": {},
   "outputs": [],
   "source": [
    "pop_element=list3.pop(4)"
   ]
  },
  {
   "cell_type": "code",
   "execution_count": 25,
   "metadata": {},
   "outputs": [
    {
     "data": {
      "text/plain": [
       "'area'"
      ]
     },
     "execution_count": 25,
     "metadata": {},
     "output_type": "execute_result"
    }
   ],
   "source": [
    "pop_element"
   ]
  },
  {
   "cell_type": "code",
   "execution_count": 26,
   "metadata": {},
   "outputs": [
    {
     "name": "stdout",
     "output_type": "stream",
     "text": [
      "element of list3['name', 'subject', 'unit', 'size', 'speed', 'acelaretion', 'dimension', 'time'] and list3 pop element area\n"
     ]
    }
   ],
   "source": [
    "print(f\"element of list3{list3} and list3 pop element {pop_element}\")"
   ]
  },
  {
   "cell_type": "code",
   "execution_count": 27,
   "metadata": {},
   "outputs": [
    {
     "data": {
      "text/plain": [
       "['acelaretion',\n",
       " 'dimension',\n",
       " 'name',\n",
       " 'size',\n",
       " 'speed',\n",
       " 'subject',\n",
       " 'time',\n",
       " 'unit']"
      ]
     },
     "execution_count": 27,
     "metadata": {},
     "output_type": "execute_result"
    }
   ],
   "source": [
    "list3.sort()\n",
    "list3"
   ]
  },
  {
   "cell_type": "code",
   "execution_count": 28,
   "metadata": {},
   "outputs": [
    {
     "data": {
      "text/plain": [
       "['unit',\n",
       " 'time',\n",
       " 'subject',\n",
       " 'speed',\n",
       " 'size',\n",
       " 'name',\n",
       " 'dimension',\n",
       " 'acelaretion']"
      ]
     },
     "execution_count": 28,
     "metadata": {},
     "output_type": "execute_result"
    }
   ],
   "source": [
    "list3.sort(reverse=True)\n",
    "list3"
   ]
  },
  {
   "cell_type": "code",
   "execution_count": 29,
   "metadata": {},
   "outputs": [
    {
     "data": {
      "text/plain": [
       "1"
      ]
     },
     "execution_count": 29,
     "metadata": {},
     "output_type": "execute_result"
    }
   ],
   "source": [
    "list3.count('name')"
   ]
  },
  {
   "cell_type": "code",
   "execution_count": 30,
   "metadata": {},
   "outputs": [],
   "source": [
    "list4=list3.copy()"
   ]
  },
  {
   "cell_type": "code",
   "execution_count": 31,
   "metadata": {},
   "outputs": [
    {
     "data": {
      "text/plain": [
       "['unit',\n",
       " 'time',\n",
       " 'subject',\n",
       " 'speed',\n",
       " 'size',\n",
       " 'name',\n",
       " 'dimension',\n",
       " 'acelaretion']"
      ]
     },
     "execution_count": 31,
     "metadata": {},
     "output_type": "execute_result"
    }
   ],
   "source": [
    "list4"
   ]
  },
  {
   "cell_type": "code",
   "execution_count": 32,
   "metadata": {},
   "outputs": [],
   "source": [
    "list4.append(\"mass\")"
   ]
  },
  {
   "cell_type": "code",
   "execution_count": 33,
   "metadata": {},
   "outputs": [
    {
     "data": {
      "text/plain": [
       "['unit',\n",
       " 'time',\n",
       " 'subject',\n",
       " 'speed',\n",
       " 'size',\n",
       " 'name',\n",
       " 'dimension',\n",
       " 'acelaretion',\n",
       " 'mass']"
      ]
     },
     "execution_count": 33,
     "metadata": {},
     "output_type": "execute_result"
    }
   ],
   "source": [
    "list4"
   ]
  },
  {
   "cell_type": "code",
   "execution_count": 34,
   "metadata": {},
   "outputs": [
    {
     "data": {
      "text/plain": [
       "['unit',\n",
       " 'time',\n",
       " 'subject',\n",
       " 'speed',\n",
       " 'size',\n",
       " 'name',\n",
       " 'dimension',\n",
       " 'acelaretion']"
      ]
     },
     "execution_count": 34,
     "metadata": {},
     "output_type": "execute_result"
    }
   ],
   "source": [
    "list3"
   ]
  },
  {
   "cell_type": "code",
   "execution_count": 35,
   "metadata": {},
   "outputs": [],
   "source": [
    "list3.append(\"density\")"
   ]
  },
  {
   "cell_type": "code",
   "execution_count": 36,
   "metadata": {},
   "outputs": [
    {
     "data": {
      "text/plain": [
       "['unit',\n",
       " 'time',\n",
       " 'subject',\n",
       " 'speed',\n",
       " 'size',\n",
       " 'name',\n",
       " 'dimension',\n",
       " 'acelaretion',\n",
       " 'density']"
      ]
     },
     "execution_count": 36,
     "metadata": {},
     "output_type": "execute_result"
    }
   ],
   "source": [
    "list3"
   ]
  },
  {
   "cell_type": "code",
   "execution_count": 37,
   "metadata": {},
   "outputs": [
    {
     "data": {
      "text/plain": [
       "['unit',\n",
       " 'time',\n",
       " 'subject',\n",
       " 'speed',\n",
       " 'size',\n",
       " 'name',\n",
       " 'dimension',\n",
       " 'acelaretion',\n",
       " 'mass']"
      ]
     },
     "execution_count": 37,
     "metadata": {},
     "output_type": "execute_result"
    }
   ],
   "source": [
    "list4\n"
   ]
  },
  {
   "cell_type": "code",
   "execution_count": 38,
   "metadata": {},
   "outputs": [
    {
     "data": {
      "text/plain": [
       "['unit',\n",
       " 'time',\n",
       " 'subject',\n",
       " 'speed',\n",
       " 'size',\n",
       " 'name',\n",
       " 'dimension',\n",
       " 'acelaretion',\n",
       " 'density']"
      ]
     },
     "execution_count": 38,
     "metadata": {},
     "output_type": "execute_result"
    }
   ],
   "source": [
    "list3"
   ]
  },
  {
   "cell_type": "code",
   "execution_count": 39,
   "metadata": {},
   "outputs": [],
   "source": [
    "list3.reverse()"
   ]
  },
  {
   "cell_type": "code",
   "execution_count": 40,
   "metadata": {},
   "outputs": [
    {
     "data": {
      "text/plain": [
       "4"
      ]
     },
     "execution_count": 40,
     "metadata": {},
     "output_type": "execute_result"
    }
   ],
   "source": [
    "list3.index(\"size\")"
   ]
  },
  {
   "cell_type": "code",
   "execution_count": 41,
   "metadata": {},
   "outputs": [
    {
     "data": {
      "text/plain": [
       "'name'"
      ]
     },
     "execution_count": 41,
     "metadata": {},
     "output_type": "execute_result"
    }
   ],
   "source": [
    "list2[3]"
   ]
  },
  {
   "cell_type": "code",
   "execution_count": 42,
   "metadata": {},
   "outputs": [
    {
     "data": {
      "text/plain": [
       "['density',\n",
       " 'acelaretion',\n",
       " 'dimension',\n",
       " 'name',\n",
       " 'size',\n",
       " 'speed',\n",
       " 'subject',\n",
       " 'time',\n",
       " 'unit']"
      ]
     },
     "execution_count": 42,
     "metadata": {},
     "output_type": "execute_result"
    }
   ],
   "source": [
    "list3"
   ]
  },
  {
   "cell_type": "code",
   "execution_count": 43,
   "metadata": {},
   "outputs": [
    {
     "data": {
      "text/plain": [
       "False"
      ]
     },
     "execution_count": 43,
     "metadata": {},
     "output_type": "execute_result"
    }
   ],
   "source": [
    "\"karachi\" in list3"
   ]
  },
  {
   "cell_type": "code",
   "execution_count": 44,
   "metadata": {},
   "outputs": [
    {
     "data": {
      "text/plain": [
       "['name', 'size']"
      ]
     },
     "execution_count": 44,
     "metadata": {},
     "output_type": "execute_result"
    }
   ],
   "source": [
    "list3[3:5]"
   ]
  },
  {
   "cell_type": "code",
   "execution_count": 45,
   "metadata": {},
   "outputs": [],
   "source": [
    "num1=[0,1,2,3,4,5,6,7,8,9]"
   ]
  },
  {
   "cell_type": "code",
   "execution_count": 46,
   "metadata": {},
   "outputs": [
    {
     "data": {
      "text/plain": [
       "[1, 2, 3, 4, 5, 6]"
      ]
     },
     "execution_count": 46,
     "metadata": {},
     "output_type": "execute_result"
    }
   ],
   "source": [
    "num1[-9:-4+1]"
   ]
  },
  {
   "cell_type": "code",
   "execution_count": 47,
   "metadata": {},
   "outputs": [
    {
     "data": {
      "text/plain": [
       "[1, 2, 3]"
      ]
     },
     "execution_count": 47,
     "metadata": {},
     "output_type": "execute_result"
    }
   ],
   "source": [
    "num1[-9:3+1]"
   ]
  },
  {
   "cell_type": "code",
   "execution_count": 48,
   "metadata": {},
   "outputs": [
    {
     "data": {
      "text/plain": [
       "[]"
      ]
     },
     "execution_count": 48,
     "metadata": {},
     "output_type": "execute_result"
    }
   ],
   "source": [
    "num1[3:-8]"
   ]
  },
  {
   "cell_type": "code",
   "execution_count": 49,
   "metadata": {},
   "outputs": [
    {
     "data": {
      "text/plain": [
       "['density',\n",
       " 'acelaretion',\n",
       " 'dimension',\n",
       " 'name',\n",
       " 'size',\n",
       " 'speed',\n",
       " 'subject',\n",
       " 'time',\n",
       " 'unit']"
      ]
     },
     "execution_count": 49,
     "metadata": {},
     "output_type": "execute_result"
    }
   ],
   "source": [
    "list3"
   ]
  },
  {
   "cell_type": "code",
   "execution_count": 50,
   "metadata": {},
   "outputs": [
    {
     "data": {
      "text/plain": [
       "['density',\n",
       " 'acelaretion',\n",
       " 'dimension',\n",
       " 'name',\n",
       " 'size',\n",
       " 'speed',\n",
       " 'subject',\n",
       " 'time',\n",
       " 'unit']"
      ]
     },
     "execution_count": 50,
     "metadata": {},
     "output_type": "execute_result"
    }
   ],
   "source": [
    "list3[:]"
   ]
  },
  {
   "cell_type": "code",
   "execution_count": 51,
   "metadata": {},
   "outputs": [],
   "source": [
    "num2=[1,2,3,4,5,6,7,8,9,10,11,12,13,14,15,16,171,18,19,20,21]"
   ]
  },
  {
   "cell_type": "code",
   "execution_count": 52,
   "metadata": {},
   "outputs": [
    {
     "data": {
      "text/plain": [
       "[1, 2, 3, 4, 5, 6, 7, 8, 9, 10, 11, 12, 13, 14, 15, 16, 171, 18, 19, 20, 21]"
      ]
     },
     "execution_count": 52,
     "metadata": {},
     "output_type": "execute_result"
    }
   ],
   "source": [
    "num2[::1]"
   ]
  },
  {
   "cell_type": "code",
   "execution_count": 53,
   "metadata": {},
   "outputs": [
    {
     "data": {
      "text/plain": [
       "[1, 3, 5, 7, 9, 11, 13, 15, 171, 19, 21]"
      ]
     },
     "execution_count": 53,
     "metadata": {},
     "output_type": "execute_result"
    }
   ],
   "source": [
    "num2[::2]"
   ]
  },
  {
   "cell_type": "code",
   "execution_count": 54,
   "metadata": {},
   "outputs": [
    {
     "data": {
      "text/plain": [
       "[1, 4, 7, 10, 13, 16, 19]"
      ]
     },
     "execution_count": 54,
     "metadata": {},
     "output_type": "execute_result"
    }
   ],
   "source": [
    "num2[::3]"
   ]
  },
  {
   "cell_type": "code",
   "execution_count": 55,
   "metadata": {},
   "outputs": [],
   "source": [
    "tupple=('ali',1, 4, 7, 10, 13, 16, 19)"
   ]
  },
  {
   "cell_type": "code",
   "execution_count": 56,
   "metadata": {},
   "outputs": [
    {
     "data": {
      "text/plain": [
       "8"
      ]
     },
     "execution_count": 56,
     "metadata": {},
     "output_type": "execute_result"
    }
   ],
   "source": [
    "len (tupple)"
   ]
  },
  {
   "cell_type": "code",
   "execution_count": 57,
   "metadata": {},
   "outputs": [
    {
     "data": {
      "text/plain": [
       "4"
      ]
     },
     "execution_count": 57,
     "metadata": {},
     "output_type": "execute_result"
    }
   ],
   "source": [
    "tupple[2]"
   ]
  },
  {
   "cell_type": "code",
   "execution_count": 58,
   "metadata": {},
   "outputs": [
    {
     "data": {
      "text/plain": [
       "6"
      ]
     },
     "execution_count": 58,
     "metadata": {},
     "output_type": "execute_result"
    }
   ],
   "source": [
    "tupple.index(16)"
   ]
  },
  {
   "cell_type": "code",
   "execution_count": 59,
   "metadata": {},
   "outputs": [
    {
     "data": {
      "text/plain": [
       "1"
      ]
     },
     "execution_count": 59,
     "metadata": {},
     "output_type": "execute_result"
    }
   ],
   "source": [
    "tupple.count(16)"
   ]
  },
  {
   "cell_type": "code",
   "execution_count": 60,
   "metadata": {},
   "outputs": [
    {
     "name": "stdout",
     "output_type": "stream",
     "text": [
      "density ['density', 'acelaretion', 'dimension', 'name', 'size', 'speed', 'subject', 'time', 'unit']\n",
      "acelaretion ['density', 'acelaretion', 'dimension', 'name', 'size', 'speed', 'subject', 'time', 'unit']\n",
      "dimension ['density', 'acelaretion', 'dimension', 'name', 'size', 'speed', 'subject', 'time', 'unit']\n",
      "name ['density', 'acelaretion', 'dimension', 'name', 'size', 'speed', 'subject', 'time', 'unit']\n",
      "size ['density', 'acelaretion', 'dimension', 'name', 'size', 'speed', 'subject', 'time', 'unit']\n",
      "speed ['density', 'acelaretion', 'dimension', 'name', 'size', 'speed', 'subject', 'time', 'unit']\n",
      "subject ['density', 'acelaretion', 'dimension', 'name', 'size', 'speed', 'subject', 'time', 'unit']\n",
      "time ['density', 'acelaretion', 'dimension', 'name', 'size', 'speed', 'subject', 'time', 'unit']\n",
      "unit ['density', 'acelaretion', 'dimension', 'name', 'size', 'speed', 'subject', 'time', 'unit']\n"
     ]
    }
   ],
   "source": [
    "for a in list3:\n",
    "    print(a,list3)"
   ]
  },
  {
   "cell_type": "code",
   "execution_count": 61,
   "metadata": {},
   "outputs": [
    {
     "name": "stdout",
     "output_type": "stream",
     "text": [
      "0 ['density', 'acelaretion', 'dimension', 'name', 'size', 'speed', 'subject', 'time', 'unit']\n",
      "1 ['density', 'acelaretion', 'dimension', 'name', 'size', 'speed', 'subject', 'time', 'unit']\n",
      "2 ['density', 'acelaretion', 'dimension', 'name', 'size', 'speed', 'subject', 'time', 'unit']\n",
      "3 ['density', 'acelaretion', 'dimension', 'name', 'size', 'speed', 'subject', 'time', 'unit']\n",
      "4 ['density', 'acelaretion', 'dimension', 'name', 'size', 'speed', 'subject', 'time', 'unit']\n",
      "5 ['density', 'acelaretion', 'dimension', 'name', 'size', 'speed', 'subject', 'time', 'unit']\n",
      "6 ['density', 'acelaretion', 'dimension', 'name', 'size', 'speed', 'subject', 'time', 'unit']\n",
      "7 ['density', 'acelaretion', 'dimension', 'name', 'size', 'speed', 'subject', 'time', 'unit']\n",
      "8 ['density', 'acelaretion', 'dimension', 'name', 'size', 'speed', 'subject', 'time', 'unit']\n",
      "9 ['density', 'acelaretion', 'dimension', 'name', 'size', 'speed', 'subject', 'time', 'unit']\n"
     ]
    }
   ],
   "source": [
    "list3\n",
    "for a  in range (10):\n",
    "    print(a,list3)"
   ]
  },
  {
   "cell_type": "code",
   "execution_count": 62,
   "metadata": {},
   "outputs": [
    {
     "name": "stdout",
     "output_type": "stream",
     "text": [
      "1 ['density', 'acelaretion', 'dimension', 'name', 'size', 'speed', 'subject', 'time', 'unit']\n",
      "3 ['density', 'acelaretion', 'dimension', 'name', 'size', 'speed', 'subject', 'time', 'unit']\n",
      "5 ['density', 'acelaretion', 'dimension', 'name', 'size', 'speed', 'subject', 'time', 'unit']\n",
      "7 ['density', 'acelaretion', 'dimension', 'name', 'size', 'speed', 'subject', 'time', 'unit']\n",
      "9 ['density', 'acelaretion', 'dimension', 'name', 'size', 'speed', 'subject', 'time', 'unit']\n"
     ]
    }
   ],
   "source": [
    "list3\n",
    "for a  in range (1,10,2):\n",
    "    print(a,list3)"
   ]
  },
  {
   "cell_type": "code",
   "execution_count": 63,
   "metadata": {},
   "outputs": [
    {
     "name": "stdout",
     "output_type": "stream",
     "text": [
      "10 ['density', 'acelaretion', 'dimension', 'name', 'size', 'speed', 'subject', 'time', 'unit']\n",
      "8 ['density', 'acelaretion', 'dimension', 'name', 'size', 'speed', 'subject', 'time', 'unit']\n",
      "6 ['density', 'acelaretion', 'dimension', 'name', 'size', 'speed', 'subject', 'time', 'unit']\n",
      "4 ['density', 'acelaretion', 'dimension', 'name', 'size', 'speed', 'subject', 'time', 'unit']\n",
      "2 ['density', 'acelaretion', 'dimension', 'name', 'size', 'speed', 'subject', 'time', 'unit']\n"
     ]
    }
   ],
   "source": [
    "list3\n",
    "for a  in range (10,1,-2):\n",
    "    print(a,list3)"
   ]
  },
  {
   "cell_type": "code",
   "execution_count": 64,
   "metadata": {},
   "outputs": [
    {
     "name": "stdout",
     "output_type": "stream",
     "text": [
      "1\n",
      "2\n",
      "3\n",
      "4\n"
     ]
    }
   ],
   "source": [
    "num2\n",
    "for num in num2:\n",
    "    if num ==5:\n",
    "        break\n",
    "    print(num)"
   ]
  },
  {
   "cell_type": "code",
   "execution_count": 65,
   "metadata": {},
   "outputs": [
    {
     "name": "stdout",
     "output_type": "stream",
     "text": [
      "1\n",
      "2\n",
      "3\n",
      "4\n",
      "5\n",
      "6\n",
      "7\n",
      "8\n",
      "9\n",
      "10\n",
      "11\n",
      "12\n",
      "13\n",
      "14\n",
      "15\n",
      "16\n",
      "171\n",
      "18\n",
      "19\n",
      "20\n",
      "21\n"
     ]
    }
   ],
   "source": [
    "num2\n",
    "for num in num2:\n",
    "    if num ==23:\n",
    "        break\n",
    "    print(num)"
   ]
  },
  {
   "cell_type": "code",
   "execution_count": 66,
   "metadata": {},
   "outputs": [
    {
     "name": "stdout",
     "output_type": "stream",
     "text": [
      "1\n",
      "3\n",
      "5\n",
      "7\n",
      "9\n",
      "11\n",
      "13\n",
      "15\n",
      "171\n",
      "19\n",
      "21\n"
     ]
    }
   ],
   "source": [
    "num2\n",
    "for num in num2:\n",
    "    if num%2==0:\n",
    "        continue\n",
    "    print(num)"
   ]
  },
  {
   "cell_type": "code",
   "execution_count": 67,
   "metadata": {},
   "outputs": [
    {
     "data": {
      "text/plain": [
       "[1, 2, 3, 4, 5, 6, 7, 8, 9, 10, 11, 12, 13, 14, 15, 16, 171, 18, 19, 20, 21]"
      ]
     },
     "execution_count": 67,
     "metadata": {},
     "output_type": "execute_result"
    }
   ],
   "source": [
    "num2"
   ]
  },
  {
   "cell_type": "code",
   "execution_count": 68,
   "metadata": {},
   "outputs": [
    {
     "name": "stdout",
     "output_type": "stream",
     "text": [
      "12\n",
      "13\n",
      "14\n",
      "15\n",
      "16\n",
      "171\n",
      "18\n",
      "19\n",
      "20\n",
      "21\n"
     ]
    }
   ],
   "source": [
    "num2\n",
    "for num in num2:\n",
    "    if num<12:\n",
    "        continue\n",
    "    print(num)"
   ]
  },
  {
   "cell_type": "code",
   "execution_count": 69,
   "metadata": {},
   "outputs": [
    {
     "name": "stdout",
     "output_type": "stream",
     "text": [
      "1\n",
      "2\n",
      "3\n",
      "4\n",
      "5\n",
      "6\n",
      "7\n",
      "8\n",
      "9\n",
      "10\n",
      "11\n",
      "12\n"
     ]
    }
   ],
   "source": [
    "num2\n",
    "for num in num2:\n",
    "    if num>12:\n",
    "        continue\n",
    "    print(num)"
   ]
  },
  {
   "cell_type": "code",
   "execution_count": 70,
   "metadata": {},
   "outputs": [],
   "source": [
    "tupple=(1, 2, 3, 4, 5, 6, 7, 8, 9, 10, 11, 12, 13, 14, 15, 16, 171, 18, 19, 20, 21)"
   ]
  },
  {
   "cell_type": "code",
   "execution_count": 71,
   "metadata": {},
   "outputs": [
    {
     "name": "stdout",
     "output_type": "stream",
     "text": [
      "1\n",
      "2\n",
      "3\n",
      "4\n",
      "5\n",
      "6\n",
      "7\n",
      "8\n",
      "9\n",
      "10\n",
      "11\n",
      "12\n",
      "13\n",
      "14\n",
      "15\n",
      "16\n",
      "171\n",
      "18\n",
      "19\n"
     ]
    }
   ],
   "source": [
    "for num_R in tupple:\n",
    "    if num_R/2 == 10:\n",
    "        break\n",
    "    print(num_R)"
   ]
  },
  {
   "cell_type": "code",
   "execution_count": 72,
   "metadata": {},
   "outputs": [],
   "source": [
    "list3.append('speed')"
   ]
  },
  {
   "cell_type": "code",
   "execution_count": 73,
   "metadata": {},
   "outputs": [
    {
     "data": {
      "text/plain": [
       "['density',\n",
       " 'acelaretion',\n",
       " 'dimension',\n",
       " 'name',\n",
       " 'size',\n",
       " 'speed',\n",
       " 'subject',\n",
       " 'time',\n",
       " 'unit',\n",
       " 'speed']"
      ]
     },
     "execution_count": 73,
     "metadata": {},
     "output_type": "execute_result"
    }
   ],
   "source": [
    "list3"
   ]
  },
  {
   "cell_type": "code",
   "execution_count": 74,
   "metadata": {},
   "outputs": [
    {
     "name": "stdout",
     "output_type": "stream",
     "text": [
      "density\n",
      "acelaretion\n",
      "dimension\n",
      "name\n",
      "size\n"
     ]
    }
   ],
   "source": [
    "for check_string in list3:\n",
    "    if check_string == \"speed\":\n",
    "        break\n",
    "    print(check_string)"
   ]
  },
  {
   "cell_type": "code",
   "execution_count": 75,
   "metadata": {},
   "outputs": [
    {
     "name": "stdout",
     "output_type": "stream",
     "text": [
      "density\n",
      "acelaretion\n",
      "dimension\n",
      "name\n",
      "size\n",
      "subject\n",
      "time\n",
      "unit\n"
     ]
    }
   ],
   "source": [
    "for check_string in list3:\n",
    "    if check_string == \"speed\":\n",
    "        continue\n",
    "    print(check_string)"
   ]
  },
  {
   "cell_type": "code",
   "execution_count": 76,
   "metadata": {},
   "outputs": [
    {
     "data": {
      "text/plain": [
       "[1, 2, 3, 4, 5, 6, 7, 8, 9, 10, 11, 12, 13, 14, 15, 16, 171, 18, 19, 20, 21]"
      ]
     },
     "execution_count": 76,
     "metadata": {},
     "output_type": "execute_result"
    }
   ],
   "source": [
    "num2"
   ]
  },
  {
   "cell_type": "code",
   "execution_count": 77,
   "metadata": {},
   "outputs": [],
   "source": [
    "num6=[1, 2, 3, 4, 5, 6, 7, 8]"
   ]
  },
  {
   "cell_type": "code",
   "execution_count": 78,
   "metadata": {},
   "outputs": [
    {
     "name": "stdout",
     "output_type": "stream",
     "text": [
      "density 1\n",
      "density 2\n",
      "density 3\n",
      "acelaretion 1\n",
      "acelaretion 2\n",
      "acelaretion 3\n",
      "dimension 1\n",
      "dimension 2\n",
      "dimension 3\n",
      "name 1\n",
      "name 2\n",
      "name 3\n",
      "size 1\n",
      "size 2\n",
      "size 3\n",
      "speed 1\n",
      "speed 2\n",
      "speed 3\n",
      "subject 1\n",
      "subject 2\n",
      "subject 3\n"
     ]
    }
   ],
   "source": [
    "for a in list3:\n",
    "    if a==\"time\":\n",
    "        break\n",
    "    for value in num6:\n",
    "        if value== 4:\n",
    "            break\n",
    "        print(a,value)"
   ]
  },
  {
   "cell_type": "code",
   "execution_count": 79,
   "metadata": {},
   "outputs": [
    {
     "name": "stdout",
     "output_type": "stream",
     "text": [
      "enter a table_number23\n",
      "23*1 = 23\n",
      "23*2 = 46\n",
      "23*3 = 69\n",
      "23*4 = 92\n",
      "23*5 = 115\n",
      "23*6 = 138\n",
      "23*7 = 161\n",
      "23*8 = 184\n",
      "23*9 = 207\n",
      "23*10 = 230\n"
     ]
    }
   ],
   "source": [
    "table_number=int(input(\"enter a table_number\"))\n",
    "for value_range in range (1,11):\n",
    "    print(f\"{table_number}*{value_range} = {table_number*value_range}\")\n",
    "    "
   ]
  },
  {
   "cell_type": "code",
   "execution_count": 80,
   "metadata": {},
   "outputs": [
    {
     "name": "stdout",
     "output_type": "stream",
     "text": [
      "enter a table_number2\n",
      "1*1 = 1\n",
      "1*2 = 2\n",
      "1*3 = 3\n",
      "1*4 = 4\n",
      "1*5 = 5\n",
      "1*6 = 6\n",
      "1*7 = 7\n",
      "1*8 = 8\n",
      "1*9 = 9\n",
      "1*10 = 10\n",
      "2*1 = 2\n",
      "2*2 = 4\n",
      "2*3 = 6\n",
      "2*4 = 8\n",
      "2*5 = 10\n",
      "2*6 = 12\n",
      "2*7 = 14\n",
      "2*8 = 16\n",
      "2*9 = 18\n",
      "2*10 = 20\n"
     ]
    }
   ],
   "source": [
    "table_number=int(input(\"enter a table_number\"))\n",
    "for table_number in range (1,table_number+1):\n",
    "    for value_range in range (1,11):\n",
    "        print(f\"{table_number}*{value_range} = {table_number*value_range}\")\n",
    "    "
   ]
  },
  {
   "cell_type": "code",
   "execution_count": 81,
   "metadata": {},
   "outputs": [],
   "source": [
    "information={'NAME': 'SYED AHMED ALI', 'home aderess': '7/b 424', 'PELOT NUMER': 424}"
   ]
  },
  {
   "cell_type": "code",
   "execution_count": 82,
   "metadata": {},
   "outputs": [],
   "source": [
    "del information[\"NAME\"]"
   ]
  },
  {
   "cell_type": "code",
   "execution_count": 83,
   "metadata": {},
   "outputs": [
    {
     "data": {
      "text/plain": [
       "{'home aderess': '7/b 424', 'PELOT NUMER': 424}"
      ]
     },
     "execution_count": 83,
     "metadata": {},
     "output_type": "execute_result"
    }
   ],
   "source": [
    "information"
   ]
  },
  {
   "cell_type": "code",
   "execution_count": 84,
   "metadata": {},
   "outputs": [],
   "source": [
    "information [\"NAME\"]=\"SYED SULTAN ALI\""
   ]
  },
  {
   "cell_type": "code",
   "execution_count": 85,
   "metadata": {},
   "outputs": [
    {
     "data": {
      "text/plain": [
       "{'home aderess': '7/b 424', 'PELOT NUMER': 424, 'NAME': 'SYED SULTAN ALI'}"
      ]
     },
     "execution_count": 85,
     "metadata": {},
     "output_type": "execute_result"
    }
   ],
   "source": [
    "information"
   ]
  },
  {
   "cell_type": "code",
   "execution_count": 86,
   "metadata": {},
   "outputs": [
    {
     "data": {
      "text/plain": [
       "True"
      ]
     },
     "execution_count": 86,
     "metadata": {},
     "output_type": "execute_result"
    }
   ],
   "source": [
    "'PELOT NUMER' in information"
   ]
  },
  {
   "cell_type": "code",
   "execution_count": 87,
   "metadata": {},
   "outputs": [],
   "source": [
    "information [list]=[\"python\",\"javascript\",\"c++\",\"ruby\",\"r_language\"]"
   ]
  },
  {
   "cell_type": "code",
   "execution_count": 88,
   "metadata": {},
   "outputs": [
    {
     "data": {
      "text/plain": [
       "{'home aderess': '7/b 424',\n",
       " 'PELOT NUMER': 424,\n",
       " 'NAME': 'SYED SULTAN ALI',\n",
       " list: ['python', 'javascript', 'c++', 'ruby', 'r_language']}"
      ]
     },
     "execution_count": 88,
     "metadata": {},
     "output_type": "execute_result"
    }
   ],
   "source": [
    "information"
   ]
  },
  {
   "cell_type": "code",
   "execution_count": 89,
   "metadata": {},
   "outputs": [],
   "source": [
    "information[\"dic\"]={\"key1\":\"python\",\"key2\":\"javascript\",\"key3\":\"c++\"}"
   ]
  },
  {
   "cell_type": "code",
   "execution_count": 90,
   "metadata": {},
   "outputs": [
    {
     "data": {
      "text/plain": [
       "{'home aderess': '7/b 424',\n",
       " 'PELOT NUMER': 424,\n",
       " 'NAME': 'SYED SULTAN ALI',\n",
       " list: ['python', 'javascript', 'c++', 'ruby', 'r_language'],\n",
       " 'dic': {'key1': 'python', 'key2': 'javascript', 'key3': 'c++'}}"
      ]
     },
     "execution_count": 90,
     "metadata": {},
     "output_type": "execute_result"
    }
   ],
   "source": [
    "information"
   ]
  },
  {
   "cell_type": "code",
   "execution_count": 91,
   "metadata": {},
   "outputs": [],
   "source": [
    "information[\"dic\"][\"dic2\"]={\"Name\":\"shams\",\"childern\":{\"unknowpeople\":{\"age\":[\"34\",\"35\",\"37\"],\"class\":[\"a_level\",\"o_level\"],\"cast\":[\"pakistani\",\"indian\"]}}}"
   ]
  },
  {
   "cell_type": "code",
   "execution_count": 92,
   "metadata": {},
   "outputs": [
    {
     "data": {
      "text/plain": [
       "{'home aderess': '7/b 424',\n",
       " 'PELOT NUMER': 424,\n",
       " 'NAME': 'SYED SULTAN ALI',\n",
       " list: ['python', 'javascript', 'c++', 'ruby', 'r_language'],\n",
       " 'dic': {'key1': 'python',\n",
       "  'key2': 'javascript',\n",
       "  'key3': 'c++',\n",
       "  'dic2': {'Name': 'shams',\n",
       "   'childern': {'unknowpeople': {'age': ['34', '35', '37'],\n",
       "     'class': ['a_level', 'o_level'],\n",
       "     'cast': ['pakistani', 'indian']}}}}}"
      ]
     },
     "execution_count": 92,
     "metadata": {},
     "output_type": "execute_result"
    }
   ],
   "source": [
    "information"
   ]
  },
  {
   "cell_type": "code",
   "execution_count": 93,
   "metadata": {},
   "outputs": [
    {
     "data": {
      "text/plain": [
       "'indian'"
      ]
     },
     "execution_count": 93,
     "metadata": {},
     "output_type": "execute_result"
    }
   ],
   "source": [
    "information[\"dic\"][\"dic2\"]['childern']['unknowpeople']['cast'][1]"
   ]
  },
  {
   "cell_type": "code",
   "execution_count": 94,
   "metadata": {},
   "outputs": [],
   "source": [
    "information={'home aderess': '7/b 424',\n",
    " 'PELOT NUMER': 424,\n",
    " 'NAME': 'SYED SULTAN ALI',\n",
    " list: ['python', 'javascript', 'c++', 'ruby', 'r_language'],\n",
    " 'dic': {'key1': 'python',\n",
    "  'key2': 'javascript',\n",
    "  'key3': 'c++',\n",
    "  'dic2': {'Name':{\"male\":{\"top_confident _people\":[\"waqas\",\"ali\"]}},\"female\":{\"top_confident _people\":[\"sara\",\"ashna\",\"romasa\"]},\n",
    "   'childern': {'unknowpeople': {'age': ['34', '35', '37'],\n",
    "     'class': ['a_level', 'o_level'],\n",
    "     'cast': ['pakistani', 'indian']}}}}}"
   ]
  },
  {
   "cell_type": "code",
   "execution_count": 95,
   "metadata": {},
   "outputs": [
    {
     "data": {
      "text/plain": [
       "{'home aderess': '7/b 424',\n",
       " 'PELOT NUMER': 424,\n",
       " 'NAME': 'SYED SULTAN ALI',\n",
       " list: ['python', 'javascript', 'c++', 'ruby', 'r_language'],\n",
       " 'dic': {'key1': 'python',\n",
       "  'key2': 'javascript',\n",
       "  'key3': 'c++',\n",
       "  'dic2': {'Name': {'male': {'top_confident _people': ['waqas', 'ali']}},\n",
       "   'female': {'top_confident _people': ['sara', 'ashna', 'romasa']},\n",
       "   'childern': {'unknowpeople': {'age': ['34', '35', '37'],\n",
       "     'class': ['a_level', 'o_level'],\n",
       "     'cast': ['pakistani', 'indian']}}}}}"
      ]
     },
     "execution_count": 95,
     "metadata": {},
     "output_type": "execute_result"
    }
   ],
   "source": [
    "information"
   ]
  },
  {
   "cell_type": "code",
   "execution_count": 96,
   "metadata": {},
   "outputs": [
    {
     "data": {
      "text/plain": [
       "'ashna'"
      ]
     },
     "execution_count": 96,
     "metadata": {},
     "output_type": "execute_result"
    }
   ],
   "source": [
    "information['dic']['dic2']['female']['top_confident _people'][1]"
   ]
  },
  {
   "cell_type": "code",
   "execution_count": 97,
   "metadata": {},
   "outputs": [
    {
     "name": "stdout",
     "output_type": "stream",
     "text": [
      "True\n"
     ]
    }
   ],
   "source": [
    "x=True\n",
    "y=False\n",
    "z=True\n",
    "a=x and(y or z)\n",
    "print(a)"
   ]
  },
  {
   "cell_type": "code",
   "execution_count": 98,
   "metadata": {},
   "outputs": [],
   "source": [
    "list=(\"hello\")"
   ]
  },
  {
   "cell_type": "code",
   "execution_count": 99,
   "metadata": {},
   "outputs": [
    {
     "data": {
      "text/plain": [
       "str"
      ]
     },
     "execution_count": 99,
     "metadata": {},
     "output_type": "execute_result"
    }
   ],
   "source": [
    "type(list)"
   ]
  },
  {
   "cell_type": "code",
   "execution_count": 100,
   "metadata": {},
   "outputs": [
    {
     "name": "stdout",
     "output_type": "stream",
     "text": [
      "SYED AHMED ALI\n",
      "SYED AHMED ALI\n",
      "SYED AHMED ALI\n",
      "SYED AHMED ALI\n",
      "SYED AHMED ALI\n",
      "SYED AHMED ALI\n",
      "SYED AHMED ALI\n",
      "SYED AHMED ALI\n",
      "SYED AHMED ALI\n",
      "SYED AHMED ALI\n",
      "SYED AHMED ALI\n",
      "SYED AHMED ALI\n",
      "SYED AHMED ALI\n",
      "SYED AHMED ALI\n",
      "SYED AHMED ALI\n",
      "SYED AHMED ALI\n",
      "SYED AHMED ALI\n",
      "SYED AHMED ALI\n",
      "SYED AHMED ALI\n",
      "SYED AHMED ALI\n",
      "SYED AHMED ALI\n",
      "SYED AHMED ALI\n",
      "SYED AHMED ALI\n",
      "SYED AHMED ALI\n",
      "SYED AHMED ALI\n",
      "SYED AHMED ALI\n",
      "SYED AHMED ALI\n",
      "SYED AHMED ALI\n",
      "SYED AHMED ALI\n",
      "SYED AHMED ALI\n",
      "SYED AHMED ALI\n",
      "SYED AHMED ALI\n",
      "SYED AHMED ALI\n",
      "SYED AHMED ALI\n",
      "SYED AHMED ALI\n",
      "SYED AHMED ALI\n",
      "SYED AHMED ALI\n",
      "SYED AHMED ALI\n",
      "SYED AHMED ALI\n",
      "SYED AHMED ALI\n",
      "SYED AHMED ALI\n",
      "SYED AHMED ALI\n",
      "SYED AHMED ALI\n",
      "SYED AHMED ALI\n",
      "SYED AHMED ALI\n",
      "SYED AHMED ALI\n",
      "SYED AHMED ALI\n",
      "SYED AHMED ALI\n",
      "SYED AHMED ALI\n",
      "SYED AHMED ALI\n",
      "SYED AHMED ALI\n",
      "SYED AHMED ALI\n",
      "SYED AHMED ALI\n",
      "SYED AHMED ALI\n",
      "SYED AHMED ALI\n",
      "SYED AHMED ALI\n",
      "SYED AHMED ALI\n",
      "SYED AHMED ALI\n",
      "SYED AHMED ALI\n",
      "SYED AHMED ALI\n",
      "SYED AHMED ALI\n",
      "SYED AHMED ALI\n",
      "SYED AHMED ALI\n",
      "SYED AHMED ALI\n",
      "SYED AHMED ALI\n",
      "SYED AHMED ALI\n",
      "SYED AHMED ALI\n",
      "SYED AHMED ALI\n",
      "SYED AHMED ALI\n",
      "SYED AHMED ALI\n",
      "SYED AHMED ALI\n",
      "SYED AHMED ALI\n",
      "SYED AHMED ALI\n",
      "SYED AHMED ALI\n",
      "SYED AHMED ALI\n",
      "SYED AHMED ALI\n",
      "SYED AHMED ALI\n",
      "SYED AHMED ALI\n",
      "SYED AHMED ALI\n",
      "SYED AHMED ALI\n",
      "SYED AHMED ALI\n",
      "SYED AHMED ALI\n",
      "SYED AHMED ALI\n",
      "SYED AHMED ALI\n",
      "SYED AHMED ALI\n",
      "SYED AHMED ALI\n",
      "SYED AHMED ALI\n",
      "SYED AHMED ALI\n",
      "SYED AHMED ALI\n",
      "SYED AHMED ALI\n",
      "SYED AHMED ALI\n",
      "SYED AHMED ALI\n",
      "SYED AHMED ALI\n",
      "SYED AHMED ALI\n",
      "SYED AHMED ALI\n",
      "SYED AHMED ALI\n",
      "SYED AHMED ALI\n",
      "SYED AHMED ALI\n",
      "SYED AHMED ALI\n",
      "SYED AHMED ALI\n",
      "SYED AHMED ALI\n",
      "SYED AHMED ALI\n",
      "SYED AHMED ALI\n",
      "SYED AHMED ALI\n",
      "SYED AHMED ALI\n",
      "SYED AHMED ALI\n",
      "SYED AHMED ALI\n",
      "SYED AHMED ALI\n",
      "SYED AHMED ALI\n",
      "SYED AHMED ALI\n",
      "SYED AHMED ALI\n",
      "SYED AHMED ALI\n",
      "SYED AHMED ALI\n",
      "SYED AHMED ALI\n",
      "SYED AHMED ALI\n",
      "SYED AHMED ALI\n",
      "SYED AHMED ALI\n",
      "SYED AHMED ALI\n",
      "SYED AHMED ALI\n",
      "SYED AHMED ALI\n",
      "SYED AHMED ALI\n",
      "SYED AHMED ALI\n",
      "SYED AHMED ALI\n",
      "SYED AHMED ALI\n",
      "SYED AHMED ALI\n",
      "SYED AHMED ALI\n",
      "SYED AHMED ALI\n",
      "SYED AHMED ALI\n",
      "SYED AHMED ALI\n",
      "SYED AHMED ALI\n",
      "SYED AHMED ALI\n",
      "SYED AHMED ALI\n",
      "SYED AHMED ALI\n",
      "SYED AHMED ALI\n",
      "SYED AHMED ALI\n",
      "SYED AHMED ALI\n",
      "SYED AHMED ALI\n",
      "SYED AHMED ALI\n",
      "SYED AHMED ALI\n",
      "SYED AHMED ALI\n",
      "SYED AHMED ALI\n",
      "SYED AHMED ALI\n",
      "SYED AHMED ALI\n",
      "SYED AHMED ALI\n",
      "SYED AHMED ALI\n",
      "SYED AHMED ALI\n",
      "SYED AHMED ALI\n",
      "SYED AHMED ALI\n",
      "SYED AHMED ALI\n",
      "SYED AHMED ALI\n",
      "SYED AHMED ALI\n",
      "SYED AHMED ALI\n",
      "SYED AHMED ALI\n",
      "SYED AHMED ALI\n",
      "SYED AHMED ALI\n",
      "SYED AHMED ALI\n",
      "SYED AHMED ALI\n",
      "SYED AHMED ALI\n",
      "SYED AHMED ALI\n",
      "SYED AHMED ALI\n",
      "SYED AHMED ALI\n",
      "SYED AHMED ALI\n",
      "SYED AHMED ALI\n",
      "SYED AHMED ALI\n",
      "SYED AHMED ALI\n",
      "SYED AHMED ALI\n",
      "SYED AHMED ALI\n",
      "SYED AHMED ALI\n",
      "SYED AHMED ALI\n",
      "SYED AHMED ALI\n",
      "SYED AHMED ALI\n",
      "SYED AHMED ALI\n",
      "SYED AHMED ALI\n",
      "SYED AHMED ALI\n",
      "SYED AHMED ALI\n",
      "SYED AHMED ALI\n",
      "SYED AHMED ALI\n",
      "SYED AHMED ALI\n",
      "SYED AHMED ALI\n",
      "SYED AHMED ALI\n",
      "SYED AHMED ALI\n",
      "SYED AHMED ALI\n",
      "SYED AHMED ALI\n",
      "SYED AHMED ALI\n",
      "SYED AHMED ALI\n",
      "SYED AHMED ALI\n",
      "SYED AHMED ALI\n",
      "SYED AHMED ALI\n",
      "SYED AHMED ALI\n",
      "SYED AHMED ALI\n",
      "SYED AHMED ALI\n",
      "SYED AHMED ALI\n",
      "SYED AHMED ALI\n",
      "SYED AHMED ALI\n",
      "SYED AHMED ALI\n",
      "SYED AHMED ALI\n",
      "SYED AHMED ALI\n",
      "SYED AHMED ALI\n",
      "SYED AHMED ALI\n",
      "SYED AHMED ALI\n",
      "SYED AHMED ALI\n",
      "SYED AHMED ALI\n",
      "SYED AHMED ALI\n",
      "SYED AHMED ALI\n",
      "SYED AHMED ALI\n",
      "SYED AHMED ALI\n",
      "SYED AHMED ALI\n",
      "SYED AHMED ALI\n",
      "SYED AHMED ALI\n",
      "SYED AHMED ALI\n",
      "SYED AHMED ALI\n",
      "SYED AHMED ALI\n",
      "SYED AHMED ALI\n",
      "SYED AHMED ALI\n",
      "SYED AHMED ALI\n",
      "SYED AHMED ALI\n",
      "SYED AHMED ALI\n",
      "SYED AHMED ALI\n",
      "SYED AHMED ALI\n",
      "SYED AHMED ALI\n",
      "SYED AHMED ALI\n",
      "SYED AHMED ALI\n",
      "SYED AHMED ALI\n",
      "SYED AHMED ALI\n",
      "SYED AHMED ALI\n",
      "SYED AHMED ALI\n",
      "SYED AHMED ALI\n",
      "SYED AHMED ALI\n",
      "SYED AHMED ALI\n",
      "SYED AHMED ALI\n",
      "SYED AHMED ALI\n",
      "SYED AHMED ALI\n",
      "SYED AHMED ALI\n",
      "SYED AHMED ALI\n",
      "SYED AHMED ALI\n",
      "SYED AHMED ALI\n",
      "SYED AHMED ALI\n",
      "SYED AHMED ALI\n",
      "SYED AHMED ALI\n",
      "SYED AHMED ALI\n",
      "SYED AHMED ALI\n",
      "SYED AHMED ALI\n",
      "SYED AHMED ALI\n",
      "SYED AHMED ALI\n",
      "SYED AHMED ALI\n",
      "SYED AHMED ALI\n",
      "SYED AHMED ALI\n",
      "SYED AHMED ALI\n",
      "SYED AHMED ALI\n",
      "SYED AHMED ALI\n",
      "SYED AHMED ALI\n",
      "SYED AHMED ALI\n",
      "SYED AHMED ALI\n",
      "SYED AHMED ALI\n",
      "SYED AHMED ALI\n",
      "SYED AHMED ALI\n",
      "SYED AHMED ALI\n",
      "SYED AHMED ALI\n",
      "SYED AHMED ALI\n",
      "SYED AHMED ALI\n",
      "SYED AHMED ALI\n",
      "SYED AHMED ALI\n",
      "SYED AHMED ALI\n",
      "SYED AHMED ALI\n",
      "SYED AHMED ALI\n",
      "SYED AHMED ALI\n",
      "SYED AHMED ALI\n",
      "SYED AHMED ALI\n",
      "SYED AHMED ALI\n",
      "SYED AHMED ALI\n",
      "SYED AHMED ALI\n",
      "SYED AHMED ALI\n",
      "SYED AHMED ALI\n",
      "SYED AHMED ALI\n",
      "SYED AHMED ALI\n",
      "SYED AHMED ALI\n",
      "SYED AHMED ALI\n",
      "SYED AHMED ALI\n",
      "SYED AHMED ALI\n",
      "SYED AHMED ALI\n",
      "SYED AHMED ALI\n",
      "SYED AHMED ALI\n",
      "SYED AHMED ALI\n",
      "SYED AHMED ALI\n",
      "SYED AHMED ALI\n",
      "SYED AHMED ALI\n",
      "SYED AHMED ALI\n",
      "SYED AHMED ALI\n",
      "SYED AHMED ALI\n",
      "SYED AHMED ALI\n",
      "SYED AHMED ALI\n",
      "SYED AHMED ALI\n",
      "SYED AHMED ALI\n",
      "SYED AHMED ALI\n",
      "SYED AHMED ALI\n",
      "SYED AHMED ALI\n",
      "SYED AHMED ALI\n",
      "SYED AHMED ALI\n",
      "SYED AHMED ALI\n",
      "SYED AHMED ALI\n",
      "SYED AHMED ALI\n",
      "SYED AHMED ALI\n",
      "SYED AHMED ALI\n",
      "SYED AHMED ALI\n",
      "SYED AHMED ALI\n",
      "SYED AHMED ALI\n",
      "SYED AHMED ALI\n",
      "SYED AHMED ALI\n",
      "SYED AHMED ALI\n",
      "SYED AHMED ALI\n",
      "SYED AHMED ALI\n",
      "SYED AHMED ALI\n",
      "SYED AHMED ALI\n",
      "SYED AHMED ALI\n",
      "SYED AHMED ALI\n",
      "SYED AHMED ALI\n",
      "SYED AHMED ALI\n",
      "SYED AHMED ALI\n",
      "SYED AHMED ALI\n",
      "SYED AHMED ALI\n",
      "SYED AHMED ALI\n",
      "SYED AHMED ALI\n",
      "SYED AHMED ALI\n",
      "SYED AHMED ALI\n",
      "SYED AHMED ALI\n",
      "SYED AHMED ALI\n",
      "SYED AHMED ALI\n",
      "SYED AHMED ALI\n",
      "SYED AHMED ALI\n",
      "SYED AHMED ALI\n",
      "SYED AHMED ALI\n",
      "SYED AHMED ALI\n",
      "SYED AHMED ALI\n",
      "SYED AHMED ALI\n",
      "SYED AHMED ALI\n",
      "SYED AHMED ALI\n",
      "SYED AHMED ALI\n",
      "SYED AHMED ALI\n",
      "SYED AHMED ALI\n",
      "SYED AHMED ALI\n",
      "SYED AHMED ALI\n",
      "SYED AHMED ALI\n",
      "SYED AHMED ALI\n",
      "SYED AHMED ALI\n",
      "SYED AHMED ALI\n",
      "SYED AHMED ALI\n",
      "SYED AHMED ALI\n",
      "SYED AHMED ALI\n",
      "SYED AHMED ALI\n",
      "SYED AHMED ALI\n",
      "SYED AHMED ALI\n",
      "SYED AHMED ALI\n",
      "SYED AHMED ALI\n",
      "SYED AHMED ALI\n",
      "SYED AHMED ALI\n",
      "SYED AHMED ALI\n",
      "SYED AHMED ALI\n",
      "SYED AHMED ALI\n",
      "SYED AHMED ALI\n",
      "SYED AHMED ALI\n",
      "SYED AHMED ALI\n",
      "SYED AHMED ALI\n",
      "SYED AHMED ALI\n",
      "SYED AHMED ALI\n",
      "SYED AHMED ALI\n",
      "SYED AHMED ALI\n",
      "SYED AHMED ALI\n",
      "SYED AHMED ALI\n",
      "SYED AHMED ALI\n",
      "SYED AHMED ALI\n",
      "SYED AHMED ALI\n",
      "SYED AHMED ALI\n",
      "SYED AHMED ALI\n",
      "SYED AHMED ALI\n",
      "SYED AHMED ALI\n",
      "SYED AHMED ALI\n",
      "SYED AHMED ALI\n",
      "SYED AHMED ALI\n",
      "SYED AHMED ALI\n",
      "SYED AHMED ALI\n",
      "SYED AHMED ALI\n",
      "SYED AHMED ALI\n",
      "SYED AHMED ALI\n",
      "SYED AHMED ALI\n",
      "SYED AHMED ALI\n",
      "SYED AHMED ALI\n",
      "SYED AHMED ALI\n",
      "SYED AHMED ALI\n",
      "SYED AHMED ALI\n",
      "SYED AHMED ALI\n",
      "SYED AHMED ALI\n",
      "SYED AHMED ALI\n",
      "SYED AHMED ALI\n",
      "SYED AHMED ALI\n",
      "SYED AHMED ALI\n",
      "SYED AHMED ALI\n",
      "SYED AHMED ALI\n",
      "SYED AHMED ALI\n",
      "SYED AHMED ALI\n",
      "SYED AHMED ALI\n",
      "SYED AHMED ALI\n",
      "SYED AHMED ALI\n",
      "SYED AHMED ALI\n",
      "SYED AHMED ALI\n",
      "SYED AHMED ALI\n",
      "SYED AHMED ALI\n",
      "SYED AHMED ALI\n",
      "SYED AHMED ALI\n",
      "SYED AHMED ALI\n",
      "SYED AHMED ALI\n",
      "SYED AHMED ALI\n",
      "SYED AHMED ALI\n",
      "SYED AHMED ALI\n",
      "SYED AHMED ALI\n",
      "SYED AHMED ALI\n",
      "SYED AHMED ALI\n",
      "SYED AHMED ALI\n",
      "SYED AHMED ALI\n",
      "SYED AHMED ALI\n",
      "SYED AHMED ALI\n",
      "SYED AHMED ALI\n",
      "SYED AHMED ALI\n",
      "SYED AHMED ALI\n",
      "SYED AHMED ALI\n",
      "SYED AHMED ALI\n",
      "SYED AHMED ALI\n",
      "SYED AHMED ALI\n",
      "SYED AHMED ALI\n",
      "SYED AHMED ALI\n",
      "SYED AHMED ALI\n",
      "SYED AHMED ALI\n",
      "SYED AHMED ALI\n",
      "SYED AHMED ALI\n",
      "SYED AHMED ALI\n",
      "SYED AHMED ALI\n",
      "SYED AHMED ALI\n",
      "SYED AHMED ALI\n",
      "SYED AHMED ALI\n",
      "SYED AHMED ALI\n",
      "SYED AHMED ALI\n",
      "SYED AHMED ALI\n",
      "SYED AHMED ALI\n",
      "SYED AHMED ALI\n",
      "SYED AHMED ALI\n",
      "SYED AHMED ALI\n",
      "SYED AHMED ALI\n",
      "SYED AHMED ALI\n",
      "SYED AHMED ALI\n",
      "SYED AHMED ALI\n",
      "SYED AHMED ALI\n",
      "SYED AHMED ALI\n",
      "SYED AHMED ALI\n",
      "SYED AHMED ALI\n",
      "SYED AHMED ALI\n",
      "SYED AHMED ALI\n",
      "SYED AHMED ALI\n",
      "SYED AHMED ALI\n",
      "SYED AHMED ALI\n",
      "SYED AHMED ALI\n",
      "SYED AHMED ALI\n",
      "SYED AHMED ALI\n",
      "SYED AHMED ALI\n",
      "SYED AHMED ALI\n",
      "SYED AHMED ALI\n",
      "SYED AHMED ALI\n",
      "SYED AHMED ALI\n",
      "SYED AHMED ALI\n",
      "SYED AHMED ALI\n",
      "SYED AHMED ALI\n",
      "SYED AHMED ALI\n",
      "SYED AHMED ALI\n",
      "SYED AHMED ALI\n",
      "SYED AHMED ALI\n",
      "SYED AHMED ALI\n",
      "SYED AHMED ALI\n",
      "SYED AHMED ALI\n",
      "SYED AHMED ALI\n",
      "SYED AHMED ALI\n",
      "SYED AHMED ALI\n",
      "SYED AHMED ALI\n",
      "SYED AHMED ALI\n",
      "SYED AHMED ALI\n",
      "SYED AHMED ALI\n",
      "SYED AHMED ALI\n",
      "SYED AHMED ALI\n",
      "SYED AHMED ALI\n",
      "SYED AHMED ALI\n",
      "SYED AHMED ALI\n",
      "SYED AHMED ALI\n",
      "SYED AHMED ALI\n",
      "SYED AHMED ALI\n",
      "SYED AHMED ALI\n",
      "SYED AHMED ALI\n",
      "SYED AHMED ALI\n",
      "SYED AHMED ALI\n",
      "SYED AHMED ALI\n",
      "SYED AHMED ALI\n",
      "SYED AHMED ALI\n",
      "SYED AHMED ALI\n",
      "SYED AHMED ALI\n",
      "SYED AHMED ALI\n",
      "SYED AHMED ALI\n",
      "SYED AHMED ALI\n",
      "SYED AHMED ALI\n",
      "SYED AHMED ALI\n",
      "SYED AHMED ALI\n",
      "SYED AHMED ALI\n",
      "SYED AHMED ALI\n",
      "SYED AHMED ALI\n",
      "SYED AHMED ALI\n",
      "SYED AHMED ALI\n",
      "SYED AHMED ALI\n",
      "SYED AHMED ALI\n",
      "SYED AHMED ALI\n",
      "SYED AHMED ALI\n",
      "SYED AHMED ALI\n",
      "SYED AHMED ALI\n",
      "SYED AHMED ALI\n",
      "SYED AHMED ALI\n",
      "SYED AHMED ALI\n",
      "SYED AHMED ALI\n",
      "SYED AHMED ALI\n",
      "SYED AHMED ALI\n",
      "SYED AHMED ALI\n",
      "SYED AHMED ALI\n",
      "SYED AHMED ALI\n",
      "SYED AHMED ALI\n",
      "SYED AHMED ALI\n",
      "SYED AHMED ALI\n",
      "SYED AHMED ALI\n",
      "SYED AHMED ALI\n",
      "SYED AHMED ALI\n",
      "SYED AHMED ALI\n",
      "SYED AHMED ALI\n",
      "SYED AHMED ALI\n",
      "SYED AHMED ALI\n",
      "SYED AHMED ALI\n",
      "SYED AHMED ALI\n",
      "SYED AHMED ALI\n",
      "SYED AHMED ALI\n",
      "SYED AHMED ALI\n",
      "SYED AHMED ALI\n",
      "SYED AHMED ALI\n",
      "SYED AHMED ALI\n",
      "SYED AHMED ALI\n",
      "SYED AHMED ALI\n",
      "SYED AHMED ALI\n",
      "SYED AHMED ALI\n",
      "SYED AHMED ALI\n",
      "SYED AHMED ALI\n",
      "SYED AHMED ALI\n",
      "SYED AHMED ALI\n",
      "SYED AHMED ALI\n",
      "SYED AHMED ALI\n",
      "SYED AHMED ALI\n",
      "SYED AHMED ALI\n",
      "SYED AHMED ALI\n",
      "SYED AHMED ALI\n",
      "SYED AHMED ALI\n",
      "SYED AHMED ALI\n",
      "SYED AHMED ALI\n",
      "SYED AHMED ALI\n",
      "SYED AHMED ALI\n",
      "SYED AHMED ALI\n",
      "SYED AHMED ALI\n",
      "SYED AHMED ALI\n",
      "SYED AHMED ALI\n",
      "SYED AHMED ALI\n",
      "SYED AHMED ALI\n",
      "SYED AHMED ALI\n",
      "SYED AHMED ALI\n",
      "SYED AHMED ALI\n",
      "SYED AHMED ALI\n",
      "SYED AHMED ALI\n",
      "SYED AHMED ALI\n",
      "SYED AHMED ALI\n",
      "SYED AHMED ALI\n",
      "SYED AHMED ALI\n",
      "SYED AHMED ALI\n",
      "SYED AHMED ALI\n",
      "SYED AHMED ALI\n",
      "SYED AHMED ALI\n",
      "SYED AHMED ALI\n",
      "SYED AHMED ALI\n",
      "SYED AHMED ALI\n",
      "SYED AHMED ALI\n",
      "SYED AHMED ALI\n",
      "SYED AHMED ALI\n",
      "SYED AHMED ALI\n",
      "SYED AHMED ALI\n",
      "SYED AHMED ALI\n",
      "SYED AHMED ALI\n",
      "SYED AHMED ALI\n",
      "SYED AHMED ALI\n",
      "SYED AHMED ALI\n",
      "SYED AHMED ALI\n",
      "SYED AHMED ALI\n",
      "SYED AHMED ALI\n",
      "SYED AHMED ALI\n",
      "SYED AHMED ALI\n",
      "SYED AHMED ALI\n",
      "SYED AHMED ALI\n",
      "SYED AHMED ALI\n",
      "SYED AHMED ALI\n",
      "SYED AHMED ALI\n",
      "SYED AHMED ALI\n",
      "SYED AHMED ALI\n",
      "SYED AHMED ALI\n",
      "SYED AHMED ALI\n",
      "SYED AHMED ALI\n",
      "SYED AHMED ALI\n",
      "SYED AHMED ALI\n",
      "SYED AHMED ALI\n",
      "SYED AHMED ALI\n",
      "SYED AHMED ALI\n",
      "SYED AHMED ALI\n",
      "SYED AHMED ALI\n",
      "SYED AHMED ALI\n",
      "SYED AHMED ALI\n",
      "SYED AHMED ALI\n",
      "SYED AHMED ALI\n",
      "SYED AHMED ALI\n",
      "SYED AHMED ALI\n",
      "SYED AHMED ALI\n",
      "SYED AHMED ALI\n",
      "SYED AHMED ALI\n",
      "SYED AHMED ALI\n",
      "SYED AHMED ALI\n",
      "SYED AHMED ALI\n",
      "SYED AHMED ALI\n",
      "SYED AHMED ALI\n",
      "SYED AHMED ALI\n",
      "SYED AHMED ALI\n",
      "SYED AHMED ALI\n",
      "SYED AHMED ALI\n",
      "SYED AHMED ALI\n",
      "SYED AHMED ALI\n",
      "SYED AHMED ALI\n",
      "SYED AHMED ALI\n",
      "SYED AHMED ALI\n",
      "SYED AHMED ALI\n",
      "SYED AHMED ALI\n",
      "SYED AHMED ALI\n",
      "SYED AHMED ALI\n",
      "SYED AHMED ALI\n",
      "SYED AHMED ALI\n",
      "SYED AHMED ALI\n",
      "SYED AHMED ALI\n",
      "SYED AHMED ALI\n",
      "SYED AHMED ALI\n",
      "SYED AHMED ALI\n",
      "SYED AHMED ALI\n",
      "SYED AHMED ALI\n",
      "SYED AHMED ALI\n",
      "SYED AHMED ALI\n",
      "SYED AHMED ALI\n",
      "SYED AHMED ALI\n",
      "SYED AHMED ALI\n",
      "SYED AHMED ALI\n",
      "SYED AHMED ALI\n",
      "SYED AHMED ALI\n",
      "SYED AHMED ALI\n",
      "SYED AHMED ALI\n",
      "SYED AHMED ALI\n",
      "SYED AHMED ALI\n",
      "SYED AHMED ALI\n",
      "SYED AHMED ALI\n",
      "SYED AHMED ALI\n",
      "SYED AHMED ALI\n",
      "SYED AHMED ALI\n",
      "SYED AHMED ALI\n",
      "SYED AHMED ALI\n",
      "SYED AHMED ALI\n",
      "SYED AHMED ALI\n",
      "SYED AHMED ALI\n",
      "SYED AHMED ALI\n",
      "SYED AHMED ALI\n",
      "SYED AHMED ALI\n",
      "SYED AHMED ALI\n",
      "SYED AHMED ALI\n",
      "SYED AHMED ALI\n",
      "SYED AHMED ALI\n",
      "SYED AHMED ALI\n",
      "SYED AHMED ALI\n",
      "SYED AHMED ALI\n",
      "SYED AHMED ALI\n",
      "SYED AHMED ALI\n",
      "SYED AHMED ALI\n",
      "SYED AHMED ALI\n",
      "SYED AHMED ALI\n",
      "SYED AHMED ALI\n",
      "SYED AHMED ALI\n",
      "SYED AHMED ALI\n",
      "SYED AHMED ALI\n",
      "SYED AHMED ALI\n",
      "SYED AHMED ALI\n",
      "SYED AHMED ALI\n",
      "SYED AHMED ALI\n",
      "SYED AHMED ALI\n",
      "SYED AHMED ALI\n",
      "SYED AHMED ALI\n",
      "SYED AHMED ALI\n",
      "SYED AHMED ALI\n",
      "SYED AHMED ALI\n",
      "SYED AHMED ALI\n",
      "SYED AHMED ALI\n",
      "SYED AHMED ALI\n",
      "SYED AHMED ALI\n",
      "SYED AHMED ALI\n",
      "SYED AHMED ALI\n",
      "SYED AHMED ALI\n",
      "SYED AHMED ALI\n",
      "SYED AHMED ALI\n",
      "SYED AHMED ALI\n",
      "SYED AHMED ALI\n",
      "SYED AHMED ALI\n",
      "SYED AHMED ALI\n",
      "SYED AHMED ALI\n",
      "SYED AHMED ALI\n",
      "SYED AHMED ALI\n",
      "SYED AHMED ALI\n",
      "SYED AHMED ALI\n",
      "SYED AHMED ALI\n",
      "SYED AHMED ALI\n",
      "SYED AHMED ALI\n",
      "SYED AHMED ALI\n",
      "SYED AHMED ALI\n",
      "SYED AHMED ALI\n",
      "SYED AHMED ALI\n",
      "SYED AHMED ALI\n",
      "SYED AHMED ALI\n",
      "SYED AHMED ALI\n",
      "SYED AHMED ALI\n",
      "SYED AHMED ALI\n",
      "SYED AHMED ALI\n",
      "SYED AHMED ALI\n",
      "SYED AHMED ALI\n",
      "SYED AHMED ALI\n",
      "SYED AHMED ALI\n",
      "SYED AHMED ALI\n",
      "SYED AHMED ALI\n",
      "SYED AHMED ALI\n",
      "SYED AHMED ALI\n",
      "SYED AHMED ALI\n",
      "SYED AHMED ALI\n",
      "SYED AHMED ALI\n",
      "SYED AHMED ALI\n",
      "SYED AHMED ALI\n",
      "SYED AHMED ALI\n",
      "SYED AHMED ALI\n",
      "SYED AHMED ALI\n",
      "SYED AHMED ALI\n",
      "SYED AHMED ALI\n",
      "SYED AHMED ALI\n",
      "SYED AHMED ALI\n",
      "SYED AHMED ALI\n",
      "SYED AHMED ALI\n",
      "SYED AHMED ALI\n",
      "SYED AHMED ALI\n",
      "SYED AHMED ALI\n",
      "SYED AHMED ALI\n",
      "SYED AHMED ALI\n",
      "SYED AHMED ALI\n",
      "SYED AHMED ALI\n",
      "SYED AHMED ALI\n",
      "SYED AHMED ALI\n",
      "SYED AHMED ALI\n",
      "SYED AHMED ALI\n",
      "SYED AHMED ALI\n",
      "SYED AHMED ALI\n",
      "SYED AHMED ALI\n",
      "SYED AHMED ALI\n",
      "SYED AHMED ALI\n",
      "SYED AHMED ALI\n",
      "SYED AHMED ALI\n",
      "SYED AHMED ALI\n",
      "SYED AHMED ALI\n",
      "SYED AHMED ALI\n",
      "SYED AHMED ALI\n",
      "SYED AHMED ALI\n",
      "SYED AHMED ALI\n",
      "SYED AHMED ALI\n",
      "SYED AHMED ALI\n",
      "SYED AHMED ALI\n",
      "SYED AHMED ALI\n",
      "SYED AHMED ALI\n",
      "SYED AHMED ALI\n",
      "SYED AHMED ALI\n",
      "SYED AHMED ALI\n",
      "SYED AHMED ALI\n",
      "SYED AHMED ALI\n",
      "SYED AHMED ALI\n",
      "SYED AHMED ALI\n",
      "SYED AHMED ALI\n",
      "SYED AHMED ALI\n",
      "SYED AHMED ALI\n",
      "SYED AHMED ALI\n",
      "SYED AHMED ALI\n",
      "SYED AHMED ALI\n",
      "SYED AHMED ALI\n",
      "SYED AHMED ALI\n",
      "SYED AHMED ALI\n",
      "SYED AHMED ALI\n",
      "SYED AHMED ALI\n",
      "SYED AHMED ALI\n",
      "SYED AHMED ALI\n",
      "SYED AHMED ALI\n",
      "SYED AHMED ALI\n",
      "SYED AHMED ALI\n",
      "SYED AHMED ALI\n",
      "SYED AHMED ALI\n",
      "SYED AHMED ALI\n",
      "SYED AHMED ALI\n",
      "SYED AHMED ALI\n",
      "SYED AHMED ALI\n",
      "SYED AHMED ALI\n",
      "SYED AHMED ALI\n",
      "SYED AHMED ALI\n",
      "SYED AHMED ALI\n",
      "SYED AHMED ALI\n",
      "SYED AHMED ALI\n",
      "SYED AHMED ALI\n",
      "SYED AHMED ALI\n",
      "SYED AHMED ALI\n",
      "SYED AHMED ALI\n",
      "SYED AHMED ALI\n",
      "SYED AHMED ALI\n",
      "SYED AHMED ALI\n",
      "SYED AHMED ALI\n",
      "SYED AHMED ALI\n",
      "SYED AHMED ALI\n",
      "SYED AHMED ALI\n",
      "SYED AHMED ALI\n",
      "SYED AHMED ALI\n",
      "SYED AHMED ALI\n",
      "SYED AHMED ALI\n",
      "SYED AHMED ALI\n",
      "SYED AHMED ALI\n",
      "SYED AHMED ALI\n",
      "SYED AHMED ALI\n",
      "SYED AHMED ALI\n",
      "SYED AHMED ALI\n",
      "SYED AHMED ALI\n",
      "SYED AHMED ALI\n",
      "SYED AHMED ALI\n",
      "SYED AHMED ALI\n",
      "SYED AHMED ALI\n",
      "SYED AHMED ALI\n",
      "SYED AHMED ALI\n",
      "SYED AHMED ALI\n",
      "SYED AHMED ALI\n",
      "SYED AHMED ALI\n",
      "SYED AHMED ALI\n",
      "SYED AHMED ALI\n",
      "SYED AHMED ALI\n",
      "SYED AHMED ALI\n",
      "SYED AHMED ALI\n",
      "SYED AHMED ALI\n",
      "SYED AHMED ALI\n",
      "SYED AHMED ALI\n",
      "SYED AHMED ALI\n",
      "SYED AHMED ALI\n",
      "SYED AHMED ALI\n",
      "SYED AHMED ALI\n",
      "SYED AHMED ALI\n",
      "SYED AHMED ALI\n",
      "SYED AHMED ALI\n",
      "SYED AHMED ALI\n",
      "SYED AHMED ALI\n",
      "SYED AHMED ALI\n",
      "SYED AHMED ALI\n",
      "SYED AHMED ALI\n",
      "SYED AHMED ALI\n",
      "SYED AHMED ALI\n",
      "SYED AHMED ALI\n",
      "SYED AHMED ALI\n",
      "SYED AHMED ALI\n",
      "SYED AHMED ALI\n",
      "SYED AHMED ALI\n",
      "SYED AHMED ALI\n",
      "SYED AHMED ALI\n",
      "SYED AHMED ALI\n",
      "SYED AHMED ALI\n",
      "SYED AHMED ALI\n",
      "SYED AHMED ALI\n",
      "SYED AHMED ALI\n",
      "SYED AHMED ALI\n",
      "SYED AHMED ALI\n",
      "SYED AHMED ALI\n",
      "SYED AHMED ALI\n",
      "SYED AHMED ALI\n",
      "SYED AHMED ALI\n",
      "SYED AHMED ALI\n",
      "SYED AHMED ALI\n",
      "SYED AHMED ALI\n",
      "SYED AHMED ALI\n",
      "SYED AHMED ALI\n",
      "SYED AHMED ALI\n",
      "SYED AHMED ALI\n",
      "SYED AHMED ALI\n",
      "SYED AHMED ALI\n",
      "SYED AHMED ALI\n",
      "SYED AHMED ALI\n",
      "SYED AHMED ALI\n",
      "SYED AHMED ALI\n",
      "SYED AHMED ALI\n",
      "SYED AHMED ALI\n",
      "SYED AHMED ALI\n",
      "SYED AHMED ALI\n",
      "SYED AHMED ALI\n",
      "SYED AHMED ALI\n",
      "SYED AHMED ALI\n",
      "SYED AHMED ALI\n",
      "SYED AHMED ALI\n",
      "SYED AHMED ALI\n",
      "SYED AHMED ALI\n",
      "SYED AHMED ALI\n",
      "SYED AHMED ALI\n",
      "SYED AHMED ALI\n",
      "SYED AHMED ALI\n",
      "SYED AHMED ALI\n",
      "SYED AHMED ALI\n",
      "SYED AHMED ALI\n",
      "SYED AHMED ALI\n",
      "SYED AHMED ALI\n",
      "SYED AHMED ALI\n",
      "SYED AHMED ALI\n",
      "SYED AHMED ALI\n",
      "SYED AHMED ALI\n",
      "SYED AHMED ALI\n",
      "SYED AHMED ALI\n",
      "SYED AHMED ALI\n",
      "SYED AHMED ALI\n",
      "SYED AHMED ALI\n",
      "SYED AHMED ALI\n",
      "SYED AHMED ALI\n",
      "SYED AHMED ALI\n",
      "SYED AHMED ALI\n",
      "SYED AHMED ALI\n",
      "SYED AHMED ALI\n",
      "SYED AHMED ALI\n",
      "SYED AHMED ALI\n",
      "SYED AHMED ALI\n",
      "SYED AHMED ALI\n",
      "SYED AHMED ALI\n",
      "SYED AHMED ALI\n",
      "SYED AHMED ALI\n",
      "SYED AHMED ALI\n",
      "SYED AHMED ALI\n",
      "SYED AHMED ALI\n",
      "SYED AHMED ALI\n",
      "SYED AHMED ALI\n",
      "SYED AHMED ALI\n",
      "SYED AHMED ALI\n",
      "SYED AHMED ALI\n",
      "SYED AHMED ALI\n",
      "SYED AHMED ALI\n",
      "SYED AHMED ALI\n",
      "SYED AHMED ALI\n",
      "SYED AHMED ALI\n",
      "SYED AHMED ALI\n",
      "SYED AHMED ALI\n",
      "SYED AHMED ALI\n",
      "SYED AHMED ALI\n",
      "SYED AHMED ALI\n",
      "SYED AHMED ALI\n",
      "SYED AHMED ALI\n",
      "SYED AHMED ALI\n",
      "SYED AHMED ALI\n",
      "SYED AHMED ALI\n",
      "SYED AHMED ALI\n",
      "SYED AHMED ALI\n",
      "SYED AHMED ALI\n",
      "SYED AHMED ALI\n",
      "SYED AHMED ALI\n",
      "SYED AHMED ALI\n",
      "SYED AHMED ALI\n",
      "SYED AHMED ALI\n",
      "SYED AHMED ALI\n",
      "SYED AHMED ALI\n",
      "SYED AHMED ALI\n",
      "SYED AHMED ALI\n",
      "SYED AHMED ALI\n",
      "SYED AHMED ALI\n",
      "SYED AHMED ALI\n",
      "SYED AHMED ALI\n",
      "SYED AHMED ALI\n",
      "SYED AHMED ALI\n",
      "SYED AHMED ALI\n",
      "SYED AHMED ALI\n",
      "SYED AHMED ALI\n",
      "SYED AHMED ALI\n",
      "SYED AHMED ALI\n",
      "SYED AHMED ALI\n",
      "SYED AHMED ALI\n",
      "SYED AHMED ALI\n",
      "SYED AHMED ALI\n",
      "SYED AHMED ALI\n",
      "SYED AHMED ALI\n",
      "SYED AHMED ALI\n"
     ]
    }
   ],
   "source": [
    "for a in range(1000):\n",
    "    print(\"SYED AHMED ALI\")"
   ]
  },
  {
   "cell_type": "code",
   "execution_count": 101,
   "metadata": {},
   "outputs": [
    {
     "ename": "AttributeError",
     "evalue": "'str' object has no attribute 'append'",
     "output_type": "error",
     "traceback": [
      "\u001b[1;31m------------------------------------------------\u001b[0m",
      "\u001b[1;31mAttributeError\u001b[0m Traceback (most recent call last)",
      "\u001b[1;32m<ipython-input-101-c14b6e2813cd>\u001b[0m in \u001b[0;36m<module>\u001b[1;34m\u001b[0m\n\u001b[1;32m----> 1\u001b[1;33m \u001b[0mlist\u001b[0m\u001b[1;33m.\u001b[0m\u001b[0mappend\u001b[0m\u001b[1;33m(\u001b[0m\u001b[1;34m'ali'\u001b[0m\u001b[1;33m)\u001b[0m\u001b[1;33m\u001b[0m\u001b[1;33m\u001b[0m\u001b[0m\n\u001b[0m",
      "\u001b[1;31mAttributeError\u001b[0m: 'str' object has no attribute 'append'"
     ]
    }
   ],
   "source": [
    "list.append('ali')"
   ]
  },
  {
   "cell_type": "code",
   "execution_count": 102,
   "metadata": {},
   "outputs": [],
   "source": [
    "list=[\"h\",\"e\",'l',\"l\",\"o\"]"
   ]
  },
  {
   "cell_type": "code",
   "execution_count": 103,
   "metadata": {},
   "outputs": [],
   "source": [
    "tupple=([\"h\",\"e\",'l',\"l\",\"o\"])"
   ]
  },
  {
   "cell_type": "code",
   "execution_count": 104,
   "metadata": {},
   "outputs": [],
   "source": [
    "list1=tupple=([\"h\",\"e\",'l',\"l\",\"o\"])"
   ]
  },
  {
   "cell_type": "code",
   "execution_count": 105,
   "metadata": {},
   "outputs": [
    {
     "data": {
      "text/plain": [
       "['h', 'e', 'l', 'l', 'o']"
      ]
     },
     "execution_count": 105,
     "metadata": {},
     "output_type": "execute_result"
    }
   ],
   "source": [
    "list"
   ]
  },
  {
   "cell_type": "code",
   "execution_count": 106,
   "metadata": {},
   "outputs": [
    {
     "ename": "TypeError",
     "evalue": "'list' object is not callable",
     "output_type": "error",
     "traceback": [
      "\u001b[1;31m------------------------------------------------\u001b[0m",
      "\u001b[1;31mTypeError\u001b[0m      Traceback (most recent call last)",
      "\u001b[1;32m<ipython-input-106-d3344deec408>\u001b[0m in \u001b[0;36m<module>\u001b[1;34m\u001b[0m\n\u001b[1;32m----> 1\u001b[1;33m \u001b[0mlist2\u001b[0m\u001b[1;33m=\u001b[0m\u001b[0mlist4\u001b[0m\u001b[1;33m(\u001b[0m\u001b[1;33m[\u001b[0m\u001b[1;36m1\u001b[0m\u001b[1;33m,\u001b[0m\u001b[1;36m2\u001b[0m\u001b[1;33m,\u001b[0m\u001b[1;36m3\u001b[0m\u001b[1;33m]\u001b[0m\u001b[1;33m)\u001b[0m\u001b[1;33m\u001b[0m\u001b[1;33m\u001b[0m\u001b[0m\n\u001b[0m",
      "\u001b[1;31mTypeError\u001b[0m: 'list' object is not callable"
     ]
    }
   ],
   "source": [
    "list2=list4([1,2,3])"
   ]
  },
  {
   "cell_type": "code",
   "execution_count": 107,
   "metadata": {},
   "outputs": [
    {
     "name": "stdout",
     "output_type": "stream",
     "text": [
      "False\n",
      "False\n",
      "False\n"
     ]
    }
   ],
   "source": [
    "x=True    #True=True =>True\n",
    "y=True   #False=False=>False\n",
    "z=False  #True=False =>False\n",
    "         #False=True =>False\n",
    "\n",
    "print(x and y and z )\n",
    "print(x and not(y or z))\n",
    "print((x and not y)or z)"
   ]
  },
  {
   "cell_type": "code",
   "execution_count": 108,
   "metadata": {},
   "outputs": [
    {
     "name": "stdout",
     "output_type": "stream",
     "text": [
      "False\n",
      "True\n"
     ]
    }
   ],
   "source": [
    "x=True\n",
    "y=True\n",
    "z=False\n",
    "p=False\n",
    "\n",
    "print(z and p)\n",
    "print( y and x )\n"
   ]
  },
  {
   "cell_type": "code",
   "execution_count": 109,
   "metadata": {},
   "outputs": [
    {
     "name": "stdout",
     "output_type": "stream",
     "text": [
      "False\n",
      "True\n",
      "False\n"
     ]
    }
   ],
   "source": [
    "x=True\n",
    "y=True\n",
    "z=False\n",
    "p=False\n",
    "\n",
    "print(x and p)\n",
    "print( not z and y)\n",
    "print(not(y or z))"
   ]
  },
  {
   "cell_type": "code",
   "execution_count": 110,
   "metadata": {},
   "outputs": [
    {
     "ename": "SyntaxError",
     "evalue": "invalid syntax (<ipython-input-110-d86cca6b5d0d>, line 3)",
     "output_type": "error",
     "traceback": [
      "\u001b[1;36m  File \u001b[1;32m\"<ipython-input-110-d86cca6b5d0d>\"\u001b[1;36m, line \u001b[1;32m3\u001b[0m\n\u001b[1;33m    print(True)3 #ERROR\u001b[0m\n\u001b[1;37m               ^\u001b[0m\n\u001b[1;31mSyntaxError\u001b[0m\u001b[1;31m:\u001b[0m invalid syntax\n"
     ]
    }
   ],
   "source": [
    "a=\"0\"\n",
    "if a==0:\n",
    "    print(True)3 #ERROR\n",
    "    else:\n",
    "    print(False)"
   ]
  },
  {
   "cell_type": "code",
   "execution_count": null,
   "metadata": {},
   "outputs": [],
   "source": [
    "print(20-14//5*6)"
   ]
  },
  {
   "cell_type": "code",
   "execution_count": null,
   "metadata": {},
   "outputs": [],
   "source": [
    "14//5*6"
   ]
  },
  {
   "cell_type": "code",
   "execution_count": 111,
   "metadata": {},
   "outputs": [
    {
     "data": {
      "text/plain": [
       "1"
      ]
     },
     "execution_count": 111,
     "metadata": {},
     "output_type": "execute_result"
    }
   ],
   "source": [
    "D=\"1\"\n",
    "H=int(D)\n",
    "H"
   ]
  },
  {
   "cell_type": "code",
   "execution_count": 112,
   "metadata": {},
   "outputs": [],
   "source": [
    "A=1\n",
    "B=2\n",
    "C=3\n",
    "D=4\n",
    "E=\"1\"\n",
    "F=\"C\"\n",
    "G=int(E)"
   ]
  },
  {
   "cell_type": "code",
   "execution_count": 113,
   "metadata": {},
   "outputs": [
    {
     "ename": "TypeError",
     "evalue": "'>' not supported between instances of 'int' and 'str'",
     "output_type": "error",
     "traceback": [
      "\u001b[1;31m------------------------------------------------\u001b[0m",
      "\u001b[1;31mTypeError\u001b[0m      Traceback (most recent call last)",
      "\u001b[1;32m<ipython-input-113-09588d73b65e>\u001b[0m in \u001b[0;36m<module>\u001b[1;34m\u001b[0m\n\u001b[0;32m      2\u001b[0m \u001b[0mA\u001b[0m\u001b[1;33m!=\u001b[0m\u001b[0mG\u001b[0m\u001b[1;33m\u001b[0m\u001b[1;33m\u001b[0m\u001b[0m\n\u001b[0;32m      3\u001b[0m \u001b[0mA\u001b[0m\u001b[1;33m<=\u001b[0m\u001b[0mG\u001b[0m\u001b[1;33m\u001b[0m\u001b[1;33m\u001b[0m\u001b[0m\n\u001b[1;32m----> 4\u001b[1;33m \u001b[0mG\u001b[0m\u001b[1;33m>\u001b[0m\u001b[0mE\u001b[0m\u001b[1;33m\u001b[0m\u001b[1;33m\u001b[0m\u001b[0m\n\u001b[0m",
      "\u001b[1;31mTypeError\u001b[0m: '>' not supported between instances of 'int' and 'str'"
     ]
    }
   ],
   "source": [
    "A==E\n",
    "A!=G\n",
    "A<=G\n",
    "G>E"
   ]
  },
  {
   "cell_type": "code",
   "execution_count": null,
   "metadata": {},
   "outputs": [],
   "source": [
    "VAR1= int(input (\"enter the 1 num :\"))\n",
    "VAR2= int(input (\"enter the 2 num :\"))\n",
    "if VAR1%VAR2==0\n",
    "print(f\"{VAR2} IS A FACTOR OF {VAR1}\")"
   ]
  },
  {
   "cell_type": "code",
   "execution_count": 114,
   "metadata": {},
   "outputs": [
    {
     "name": "stdout",
     "output_type": "stream",
     "text": [
      "enter the 1 num :\n",
      "enter the 2 num :\n",
      " sum is \n"
     ]
    }
   ],
   "source": [
    "VAR1= input (\"enter the 1 num :\")\n",
    "VAR2= input (\"enter the 2 num :\")\n",
    "sum = VAR1+VAR2\n",
    "print(f\" sum is {sum}\")"
   ]
  },
  {
   "cell_type": "code",
   "execution_count": 115,
   "metadata": {},
   "outputs": [
    {
     "ename": "SyntaxError",
     "evalue": "EOL while scanning string literal (<ipython-input-115-ac966cef0702>, line 2)",
     "output_type": "error",
     "traceback": [
      "\u001b[1;36m  File \u001b[1;32m\"<ipython-input-115-ac966cef0702>\"\u001b[1;36m, line \u001b[1;32m2\u001b[0m\n\u001b[1;33m    print(f\"value of pi is {pi:.3})\u001b[0m\n\u001b[1;37m                                   ^\u001b[0m\n\u001b[1;31mSyntaxError\u001b[0m\u001b[1;31m:\u001b[0m EOL while scanning string literal\n"
     ]
    }
   ],
   "source": [
    "pi =22/7\n",
    "print(f\"value of pi is {pi:.3})"
   ]
  },
  {
   "cell_type": "code",
   "execution_count": 116,
   "metadata": {},
   "outputs": [
    {
     "data": {
      "text/plain": [
       "2.0"
      ]
     },
     "execution_count": 116,
     "metadata": {},
     "output_type": "execute_result"
    }
   ],
   "source": [
    "5//2.0"
   ]
  },
  {
   "cell_type": "code",
   "execution_count": 117,
   "metadata": {},
   "outputs": [
    {
     "name": "stdout",
     "output_type": "stream",
     "text": [
      "2.0\n"
     ]
    }
   ],
   "source": [
    "val1=100\n",
    "val2=50\n",
    "div=val1/val2\n",
    "print(div)\n",
    "div=val1//val2"
   ]
  },
  {
   "cell_type": "code",
   "execution_count": 118,
   "metadata": {},
   "outputs": [
    {
     "data": {
      "text/plain": [
       "2.0"
      ]
     },
     "execution_count": 118,
     "metadata": {},
     "output_type": "execute_result"
    }
   ],
   "source": [
    "val1/val2"
   ]
  },
  {
   "cell_type": "code",
   "execution_count": 119,
   "metadata": {},
   "outputs": [
    {
     "data": {
      "text/plain": [
       "3"
      ]
     },
     "execution_count": 119,
     "metadata": {},
     "output_type": "execute_result"
    }
   ],
   "source": [
    "3%5"
   ]
  },
  {
   "cell_type": "code",
   "execution_count": 120,
   "metadata": {},
   "outputs": [
    {
     "data": {
      "text/plain": [
       "3"
      ]
     },
     "execution_count": 120,
     "metadata": {},
     "output_type": "execute_result"
    }
   ],
   "source": [
    "35%4"
   ]
  },
  {
   "cell_type": "code",
   "execution_count": 121,
   "metadata": {},
   "outputs": [
    {
     "data": {
      "text/plain": [
       "2"
      ]
     },
     "execution_count": 121,
     "metadata": {},
     "output_type": "execute_result"
    }
   ],
   "source": [
    "7%5"
   ]
  },
  {
   "cell_type": "code",
   "execution_count": 122,
   "metadata": {},
   "outputs": [
    {
     "data": {
      "text/plain": [
       "3"
      ]
     },
     "execution_count": 122,
     "metadata": {},
     "output_type": "execute_result"
    }
   ],
   "source": [
    "3%5"
   ]
  },
  {
   "cell_type": "code",
   "execution_count": 123,
   "metadata": {},
   "outputs": [
    {
     "name": "stdout",
     "output_type": "stream",
     "text": [
      "h e l l o\n"
     ]
    }
   ],
   "source": [
    "print('h', 'e', 'l', 'l', 'o',end ='\\n')"
   ]
  },
  {
   "cell_type": "code",
   "execution_count": 124,
   "metadata": {},
   "outputs": [
    {
     "name": "stdout",
     "output_type": "stream",
     "text": [
      "h\te\tl\tl\to\n"
     ]
    }
   ],
   "source": [
    "print('h', 'e', 'l', 'l', 'o',sep ='\\t')"
   ]
  },
  {
   "cell_type": "code",
   "execution_count": 125,
   "metadata": {},
   "outputs": [],
   "source": [
    "x1=1\n",
    "x2=2\n",
    "x3=3\n",
    "x4=4\n",
    "x5=5\n",
    "x=[x1,x2,x3,x4,x5]"
   ]
  },
  {
   "cell_type": "code",
   "execution_count": 126,
   "metadata": {},
   "outputs": [
    {
     "data": {
      "text/plain": [
       "[1, 2, 3, 4, 5]"
      ]
     },
     "execution_count": 126,
     "metadata": {},
     "output_type": "execute_result"
    }
   ],
   "source": [
    "x"
   ]
  },
  {
   "cell_type": "code",
   "execution_count": 127,
   "metadata": {},
   "outputs": [],
   "source": [
    "q,w,e =123,323,4343"
   ]
  },
  {
   "cell_type": "code",
   "execution_count": 128,
   "metadata": {},
   "outputs": [
    {
     "name": "stdout",
     "output_type": "stream",
     "text": [
      "123\n",
      "323\n",
      "4343\n"
     ]
    }
   ],
   "source": [
    "print(q)\n",
    "print(w)\n",
    "print(e)"
   ]
  },
  {
   "cell_type": "code",
   "execution_count": 129,
   "metadata": {},
   "outputs": [],
   "source": [
    "for i in range (1,10):\n",
    "    if i%3==0:\n",
    "        continue\n",
    "    else:\n",
    "        break\n",
    "        print(i,end=\" \")\n",
    "        "
   ]
  },
  {
   "cell_type": "code",
   "execution_count": 130,
   "metadata": {},
   "outputs": [
    {
     "name": "stdout",
     "output_type": "stream",
     "text": [
      "66\n"
     ]
    }
   ],
   "source": [
    "l=[75,43,66,87]\n",
    "print(l[2])"
   ]
  },
  {
   "cell_type": "code",
   "execution_count": 131,
   "metadata": {},
   "outputs": [
    {
     "name": "stdout",
     "output_type": "stream",
     "text": [
      "A\n",
      "S\n",
      "D\n",
      "G\n",
      "J\n",
      "G\n",
      "F\n"
     ]
    }
   ],
   "source": [
    "x='asdgjgf'\n",
    "for i in x:\n",
    "    print(i.upper())"
   ]
  },
  {
   "cell_type": "code",
   "execution_count": 132,
   "metadata": {},
   "outputs": [
    {
     "name": "stdout",
     "output_type": "stream",
     "text": [
      "\n",
      "c\n",
      "h\n",
      "e\n",
      "e\n",
      "n\n",
      "\n",
      "c\n",
      "h\n",
      "e\n",
      "e\n",
      "n\n",
      "\n",
      "c\n",
      "h\n",
      "e\n",
      "e\n",
      "n\n",
      "\n",
      "c\n",
      "h\n",
      "e\n",
      "e\n",
      "n\n",
      "\n",
      "c\n",
      "h\n",
      "e\n",
      "e\n",
      "n\n"
     ]
    }
   ],
   "source": [
    "couty=\"cheen\"\n",
    "for i in range(0,10,2):\n",
    "    print()\n",
    "    for char in \"cheen\":\n",
    "        print(char)\n",
    "    \n",
    "    "
   ]
  },
  {
   "cell_type": "code",
   "execution_count": 133,
   "metadata": {},
   "outputs": [
    {
     "name": "stdout",
     "output_type": "stream",
     "text": [
      "\n"
     ]
    },
    {
     "ename": "NameError",
     "evalue": "name 'counrty' is not defined",
     "output_type": "error",
     "traceback": [
      "\u001b[1;31m------------------------------------------------\u001b[0m",
      "\u001b[1;31mNameError\u001b[0m      Traceback (most recent call last)",
      "\u001b[1;32m<ipython-input-133-fe7ed234ce81>\u001b[0m in \u001b[0;36m<module>\u001b[1;34m\u001b[0m\n\u001b[0;32m      3\u001b[0m     \u001b[0mprint\u001b[0m\u001b[1;33m(\u001b[0m\u001b[1;33m)\u001b[0m\u001b[1;33m\u001b[0m\u001b[1;33m\u001b[0m\u001b[0m\n\u001b[0;32m      4\u001b[0m     \u001b[1;32mfor\u001b[0m \u001b[0mchar\u001b[0m \u001b[1;32min\u001b[0m \u001b[0mcountry\u001b[0m\u001b[1;33m:\u001b[0m\u001b[1;33m\u001b[0m\u001b[1;33m\u001b[0m\u001b[0m\n\u001b[1;32m----> 5\u001b[1;33m         \u001b[0mprint\u001b[0m\u001b[1;33m(\u001b[0m\u001b[0mcounrty\u001b[0m\u001b[1;33m)\u001b[0m\u001b[1;33m\u001b[0m\u001b[1;33m\u001b[0m\u001b[0m\n\u001b[0m\u001b[0;32m      6\u001b[0m \u001b[1;33m\u001b[0m\u001b[0m\n",
      "\u001b[1;31mNameError\u001b[0m: name 'counrty' is not defined"
     ]
    }
   ],
   "source": [
    "country=\"china\"\n",
    "for i in range(0,10,2):\n",
    "    print()\n",
    "    for char in country:\n",
    "        print(counrty)\n",
    "        "
   ]
  },
  {
   "cell_type": "code",
   "execution_count": null,
   "metadata": {},
   "outputs": [],
   "source": [
    "var=10\n",
    "for i in range(10):\n",
    "    for j in range (2,10,1):\n",
    "        if var%2==0:\n",
    "            continue\n",
    "            var+=1\n",
    "    var+=1\n",
    "else:\n",
    "    var+=1\n",
    "    print(var)\n",
    "            \n",
    "    "
   ]
  },
  {
   "cell_type": "code",
   "execution_count": 134,
   "metadata": {},
   "outputs": [
    {
     "name": "stdout",
     "output_type": "stream",
     "text": [
      "2\n",
      "3\n",
      "4\n",
      "5\n",
      "6\n",
      "7\n",
      "8\n",
      "9\n"
     ]
    }
   ],
   "source": [
    "for j in range (2,10,1):\n",
    "    print(j)"
   ]
  },
  {
   "cell_type": "code",
   "execution_count": 135,
   "metadata": {},
   "outputs": [
    {
     "data": {
      "text/plain": [
       "1"
      ]
     },
     "execution_count": 135,
     "metadata": {},
     "output_type": "execute_result"
    }
   ],
   "source": [
    "counta=count+1\n",
    "counta"
   ]
  },
  {
   "cell_type": "code",
   "execution_count": 136,
   "metadata": {},
   "outputs": [],
   "source": [
    "counta+=1"
   ]
  },
  {
   "cell_type": "code",
   "execution_count": 137,
   "metadata": {},
   "outputs": [],
   "source": [
    "counta=['unit',\n",
    " 'time',\n",
    " 'subject',\n",
    " 'speed',\n",
    " 'size',\n",
    " 'name',\n",
    " 'dimension',\n",
    " 'acelaretion']"
   ]
  },
  {
   "cell_type": "code",
   "execution_count": 138,
   "metadata": {},
   "outputs": [
    {
     "name": "stdout",
     "output_type": "stream",
     "text": [
      "4\n",
      "4\n",
      "4\n"
     ]
    }
   ],
   "source": [
    "t=(1,2,3,4)\n",
    "print(max(t))\n",
    "print(len(t))\n",
    "print(t[3])"
   ]
  },
  {
   "cell_type": "code",
   "execution_count": 139,
   "metadata": {},
   "outputs": [
    {
     "data": {
      "text/plain": [
       "True"
      ]
     },
     "execution_count": 139,
     "metadata": {},
     "output_type": "execute_result"
    }
   ],
   "source": [
    "t1=(1,2,3,4)\n",
    "t2=(1,2,4,3)\n",
    "t1<t2"
   ]
  },
  {
   "cell_type": "code",
   "execution_count": 140,
   "metadata": {},
   "outputs": [
    {
     "data": {
      "text/plain": [
       "False"
      ]
     },
     "execution_count": 140,
     "metadata": {},
     "output_type": "execute_result"
    }
   ],
   "source": [
    "t2=(1,2,3,4)\n",
    "t1=(1,2,4,3)\n",
    "\n",
    "t1<t2"
   ]
  },
  {
   "cell_type": "code",
   "execution_count": 141,
   "metadata": {},
   "outputs": [
    {
     "data": {
      "text/plain": [
       "True"
      ]
     },
     "execution_count": 141,
     "metadata": {},
     "output_type": "execute_result"
    }
   ],
   "source": [
    "k=(2,1)\n",
    "g=(1,2)\n",
    "k>g"
   ]
  },
  {
   "cell_type": "code",
   "execution_count": 142,
   "metadata": {},
   "outputs": [
    {
     "name": "stdout",
     "output_type": "stream",
     "text": [
      "1\n",
      "3\n",
      "5\n",
      "7\n",
      "9\n"
     ]
    }
   ],
   "source": [
    "for e in range(1,10,2):\n",
    "    print(e)"
   ]
  },
  {
   "cell_type": "code",
   "execution_count": 143,
   "metadata": {},
   "outputs": [
    {
     "name": "stdout",
     "output_type": "stream",
     "text": [
      "9\n"
     ]
    }
   ],
   "source": [
    "count=0\n",
    "for i in range (1,5):\n",
    "    for j in range(0,5,2):\n",
    "        if  i==j:\n",
    "            break\n",
    "        else:\n",
    "            count+=1\n",
    "print(count)\n"
   ]
  },
  {
   "cell_type": "code",
   "execution_count": 144,
   "metadata": {},
   "outputs": [
    {
     "name": "stdout",
     "output_type": "stream",
     "text": [
      "9\n"
     ]
    }
   ],
   "source": [
    "\n",
    "vegetables=[\"potato\",\"okra\",\"onion\",\"spinah\"]\n",
    "fruits=[\"apple\",'orange',\"straeberry\",\"banana\"]\n",
    "for fruit in fruits:\n",
    "    for vegetable in vegetables:\n",
    "        if fruit==\"strawbery\" and vegetable==\"okra\":\n",
    "            count+=1\n",
    "print(count)"
   ]
  },
  {
   "cell_type": "code",
   "execution_count": 145,
   "metadata": {},
   "outputs": [
    {
     "name": "stdout",
     "output_type": "stream",
     "text": [
      "75\n",
      "43\n",
      "66\n",
      "87\n"
     ]
    }
   ],
   "source": [
    "l=[75,43,66,87]\n",
    "for i in range(len(l)):\n",
    "      print(l[i],)"
   ]
  },
  {
   "cell_type": "code",
   "execution_count": 146,
   "metadata": {},
   "outputs": [
    {
     "name": "stdout",
     "output_type": "stream",
     "text": [
      "75 43 66 87 "
     ]
    }
   ],
   "source": [
    "l=[75,43,66,87]\n",
    "for i in range(len(l)):\n",
    "      print(l[i],end=\" \")"
   ]
  },
  {
   "cell_type": "code",
   "execution_count": 147,
   "metadata": {},
   "outputs": [],
   "source": [
    "l=[75,43,66,87]\n",
    "for i in range(len(l)):\n",
    "    if i==66:\n",
    "        print(l[i],end=\" \")"
   ]
  },
  {
   "cell_type": "code",
   "execution_count": 148,
   "metadata": {},
   "outputs": [
    {
     "ename": "SyntaxError",
     "evalue": "invalid syntax (<ipython-input-148-1fb17b031a79>, line 3)",
     "output_type": "error",
     "traceback": [
      "\u001b[1;36m  File \u001b[1;32m\"<ipython-input-148-1fb17b031a79>\"\u001b[1;36m, line \u001b[1;32m3\u001b[0m\n\u001b[1;33m    if i!=66\u001b[0m\n\u001b[1;37m            ^\u001b[0m\n\u001b[1;31mSyntaxError\u001b[0m\u001b[1;31m:\u001b[0m invalid syntax\n"
     ]
    }
   ],
   "source": [
    "l=[75,43,66,87]\n",
    "for i in range(len(l)):\n",
    "    if i!=66\n",
    "        print(l[i],end=\" \")"
   ]
  },
  {
   "cell_type": "code",
   "execution_count": null,
   "metadata": {},
   "outputs": [],
   "source": [
    "h=[2,75,2,43,66,87]"
   ]
  },
  {
   "cell_type": "code",
   "execution_count": null,
   "metadata": {},
   "outputs": [],
   "source": [
    "h.remove(2)"
   ]
  },
  {
   "cell_type": "code",
   "execution_count": null,
   "metadata": {},
   "outputs": [],
   "source": [
    "h"
   ]
  },
  {
   "cell_type": "code",
   "execution_count": null,
   "metadata": {},
   "outputs": [],
   "source": [
    "counta"
   ]
  },
  {
   "cell_type": "code",
   "execution_count": null,
   "metadata": {},
   "outputs": [],
   "source": [
    "if 'dimension'in counta:print(True)\n",
    "    else:print(False)"
   ]
  },
  {
   "cell_type": "code",
   "execution_count": null,
   "metadata": {},
   "outputs": [],
   "source": [
    "values=[2,4,1,33,61,1,2]\n",
    "V=0\n",
    "for column in range (len(values)):\n",
    "    if V<values[column]:\n",
    "        print(values[column])\n",
    "print(V)"
   ]
  },
  {
   "cell_type": "code",
   "execution_count": null,
   "metadata": {},
   "outputs": [],
   "source": [
    "values[column]"
   ]
  },
  {
   "cell_type": "code",
   "execution_count": null,
   "metadata": {},
   "outputs": [],
   "source": [
    "lis=[1,2,3,4] \n",
    "print (lis[-3:-2])"
   ]
  },
  {
   "cell_type": "code",
   "execution_count": null,
   "metadata": {
    "scrolled": true
   },
   "outputs": [],
   "source": [
    "\"my name is ahmed ali what is your name i live in karachi i m ready for quiz 2 in ai program\""
   ]
  },
  {
   "cell_type": "code",
   "execution_count": null,
   "metadata": {},
   "outputs": [],
   "source": [
    "list1=[11,2,23]\n",
    "list2=[11,2,2,]"
   ]
  },
  {
   "cell_type": "code",
   "execution_count": 149,
   "metadata": {},
   "outputs": [
    {
     "data": {
      "text/plain": [
       "False"
      ]
     },
     "execution_count": 149,
     "metadata": {},
     "output_type": "execute_result"
    }
   ],
   "source": [
    "list1<list2"
   ]
  },
  {
   "cell_type": "code",
   "execution_count": 150,
   "metadata": {},
   "outputs": [],
   "source": [
    "LIST2=[2,3,4,5,6,7,9]\n",
    "LIST3=[2,3,4,5,6,7,8]"
   ]
  },
  {
   "cell_type": "code",
   "execution_count": 151,
   "metadata": {},
   "outputs": [
    {
     "data": {
      "text/plain": [
       "True"
      ]
     },
     "execution_count": 151,
     "metadata": {},
     "output_type": "execute_result"
    }
   ],
   "source": [
    "LIST2>LIST3"
   ]
  },
  {
   "cell_type": "code",
   "execution_count": 152,
   "metadata": {},
   "outputs": [
    {
     "data": {
      "text/plain": [
       "[2, 3, 4, 5, 6, 7, 9]"
      ]
     },
     "execution_count": 152,
     "metadata": {},
     "output_type": "execute_result"
    }
   ],
   "source": [
    "LIST2"
   ]
  },
  {
   "cell_type": "code",
   "execution_count": 153,
   "metadata": {},
   "outputs": [
    {
     "data": {
      "text/plain": [
       "(1, 2, 3, 45, 6, 7, 8, 9)"
      ]
     },
     "execution_count": 153,
     "metadata": {},
     "output_type": "execute_result"
    }
   ],
   "source": [
    "1,2,3,45,6,7,8,9"
   ]
  },
  {
   "cell_type": "code",
   "execution_count": 154,
   "metadata": {},
   "outputs": [
    {
     "ename": "NameError",
     "evalue": "name 'Z' is not defined",
     "output_type": "error",
     "traceback": [
      "\u001b[1;31m------------------------------------------------\u001b[0m",
      "\u001b[1;31mNameError\u001b[0m      Traceback (most recent call last)",
      "\u001b[1;32m<ipython-input-154-c3563171ea2e>\u001b[0m in \u001b[0;36m<module>\u001b[1;34m\u001b[0m\n\u001b[0;32m      1\u001b[0m \u001b[0mX\u001b[0m\u001b[1;33m=\u001b[0m\u001b[1;36m1\u001b[0m\u001b[1;33m\u001b[0m\u001b[1;33m\u001b[0m\u001b[0m\n\u001b[0;32m      2\u001b[0m \u001b[0mY\u001b[0m\u001b[1;33m=\u001b[0m\u001b[1;36m2\u001b[0m\u001b[1;33m\u001b[0m\u001b[1;33m\u001b[0m\u001b[0m\n\u001b[1;32m----> 3\u001b[1;33m \u001b[0mX\u001b[0m\u001b[1;33m=\u001b[0m\u001b[0mZ\u001b[0m\u001b[1;33m\u001b[0m\u001b[1;33m\u001b[0m\u001b[0m\n\u001b[0m\u001b[0;32m      4\u001b[0m \u001b[0mZ\u001b[0m\u001b[1;33m=\u001b[0m\u001b[0mY\u001b[0m\u001b[1;33m\u001b[0m\u001b[1;33m\u001b[0m\u001b[0m\n\u001b[0;32m      5\u001b[0m \u001b[0mX\u001b[0m\u001b[1;33m=\u001b[0m\u001b[0mY\u001b[0m\u001b[1;33m\u001b[0m\u001b[1;33m\u001b[0m\u001b[0m\n",
      "\u001b[1;31mNameError\u001b[0m: name 'Z' is not defined"
     ]
    }
   ],
   "source": [
    "X=1\n",
    "Y=2\n",
    "X=Z\n",
    "Z=Y\n",
    "X=Y\n",
    "print(X , Y)"
   ]
  },
  {
   "cell_type": "code",
   "execution_count": null,
   "metadata": {},
   "outputs": [],
   "source": [
    "LIST2"
   ]
  },
  {
   "cell_type": "code",
   "execution_count": null,
   "metadata": {},
   "outputs": [],
   "source": [
    "discard (LIST2)"
   ]
  },
  {
   "cell_type": "code",
   "execution_count": 155,
   "metadata": {},
   "outputs": [
    {
     "name": "stdout",
     "output_type": "stream",
     "text": [
      "0\n",
      "1\n",
      "2\n",
      "3\n",
      "4\n",
      "5\n"
     ]
    }
   ],
   "source": [
    "n=5\n",
    "k=5\n",
    "for i in  range(0 ,n+1):\n",
    "     print(i)"
   ]
  },
  {
   "cell_type": "code",
   "execution_count": 156,
   "metadata": {},
   "outputs": [
    {
     "name": "stdout",
     "output_type": "stream",
     "text": [
      "5 5 5 5 5 5 "
     ]
    }
   ],
   "source": [
    "n=5\n",
    "k=5                        #k=5 - i=6 = -1\n",
    "for i in  range(0 ,n+1):\n",
    "    for j in range (k ,n+1):\n",
    "        print(j, end=' ')"
   ]
  },
  {
   "cell_type": "code",
   "execution_count": 182,
   "metadata": {
    "slideshow": {
     "slide_type": "-"
    }
   },
   "outputs": [
    {
     "data": {
      "text/plain": [
       "[]"
      ]
     },
     "execution_count": 182,
     "metadata": {},
     "output_type": "execute_result"
    }
   ],
   "source": [
    "num=[0,1,2,3,4,5]\n",
    "num[-1:5]\n"
   ]
  },
  {
   "cell_type": "code",
   "execution_count": 183,
   "metadata": {},
   "outputs": [
    {
     "data": {
      "text/plain": [
       "[4]"
      ]
     },
     "execution_count": 183,
     "metadata": {},
     "output_type": "execute_result"
    }
   ],
   "source": [
    "num[-2:5]\n"
   ]
  },
  {
   "cell_type": "code",
   "execution_count": null,
   "metadata": {},
   "outputs": [],
   "source": []
  },
  {
   "cell_type": "code",
   "execution_count": 191,
   "metadata": {
    "slideshow": {
     "slide_type": "notes"
    }
   },
   "outputs": [
    {
     "name": "stdout",
     "output_type": "stream",
     "text": [
      "\n",
      "4 \n",
      "3 4 \n",
      "2 3 4 \n",
      "1 2 3 4 \n",
      "0 1 2 3 4 \n"
     ]
    }
   ],
   "source": [
    "n=5            # (-1 ,5)=0 (-2,5)=4 (-3,5)=4,3 (-4,5)=4,3,2 (-5,5)=4,3,2,1 (-6,5)=4,3,2,1,0   \n",
    "k=5                        \n",
    "for i in  range(0,n+1):\n",
    "    for j in range (k-i ,n):#n=( 0  1  2  3  4  5)\n",
    "        print(j,end=\" \" )           #  (-6 -5 -4 -3 -2 -1) k-i =0-6 =-6\n",
    "    print()                  #                     k-i =1-6 = -5"
   ]
  },
  {
   "cell_type": "code",
   "execution_count": null,
   "metadata": {},
   "outputs": [],
   "source": []
  },
  {
   "cell_type": "code",
   "execution_count": null,
   "metadata": {},
   "outputs": [],
   "source": []
  },
  {
   "cell_type": "code",
   "execution_count": null,
   "metadata": {},
   "outputs": [],
   "source": [
    "\n"
   ]
  },
  {
   "cell_type": "code",
   "execution_count": null,
   "metadata": {},
   "outputs": [],
   "source": []
  },
  {
   "cell_type": "code",
   "execution_count": null,
   "metadata": {},
   "outputs": [],
   "source": []
  },
  {
   "cell_type": "code",
   "execution_count": null,
   "metadata": {},
   "outputs": [],
   "source": []
  }
 ],
 "metadata": {
  "kernelspec": {
   "display_name": "Python 3",
   "language": "python",
   "name": "python3"
  },
  "language_info": {
   "codemirror_mode": {
    "name": "ipython",
    "version": 3
   },
   "file_extension": ".py",
   "mimetype": "text/x-python",
   "name": "python",
   "nbconvert_exporter": "python",
   "pygments_lexer": "ipython3",
   "version": "3.7.6"
  }
 },
 "nbformat": 4,
 "nbformat_minor": 4
}
