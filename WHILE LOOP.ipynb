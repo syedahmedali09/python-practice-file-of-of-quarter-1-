{
 "cells": [
  {
   "cell_type": "markdown",
   "metadata": {},
   "source": [
    "# while loop"
   ]
  },
  {
   "cell_type": "code",
   "execution_count": 1,
   "metadata": {},
   "outputs": [],
   "source": [
    "# they work similar to for  loop , but in while loop allow user ton terminate the by flag seting"
   ]
  },
  {
   "cell_type": "code",
   "execution_count": 2,
   "metadata": {},
   "outputs": [
    {
     "name": "stdout",
     "output_type": "stream",
     "text": [
      "this is while loop printing\n",
      "this is while loop printing\n",
      "this is while loop printing\n",
      "this is while loop printing\n",
      "this is while loop printing\n",
      "this is while loop printing\n",
      "this is while loop printing\n",
      "this is while loop printing\n",
      "this is while loop printing\n",
      "this is while loop printing\n"
     ]
    }
   ],
   "source": [
    "c=0\n",
    "while c< 10:\n",
    "    print (\"this is while loop printing\")\n",
    "    c +=1"
   ]
  },
  {
   "cell_type": "code",
   "execution_count": 3,
   "metadata": {},
   "outputs": [
    {
     "name": "stdout",
     "output_type": "stream",
     "text": [
      "this is while loop printing\n",
      "this is while loop printing\n",
      "this is while loop printing\n",
      "this is while loop printing\n",
      "this is while loop printing\n",
      "this is while loop printing\n",
      "this is while loop printing\n",
      "this is while loop printing\n"
     ]
    }
   ],
   "source": [
    "\n",
    "n=74\n",
    "c=18\n",
    "while c> 10:\n",
    "    print (\"this is while loop printing\")\n",
    "    c -=1\n",
    "    \n",
    "    "
   ]
  },
  {
   "cell_type": "code",
   "execution_count": 4,
   "metadata": {},
   "outputs": [
    {
     "name": "stdout",
     "output_type": "stream",
     "text": [
      "this is while loop printing\n",
      "this is while loop printing\n",
      "this is while loop printing\n",
      "this is while loop printing\n",
      "this is while loop printing\n",
      "this is while loop printing\n",
      "this is while loop printing\n",
      "this is while loop printing\n",
      "this is while loop printing\n",
      "this is while loop printing\n",
      "this is while loop printing\n",
      "this is while loop printing\n"
     ]
    }
   ],
   "source": [
    "for w in range (12):\n",
    "    print(\"this is while loop printing\")\n"
   ]
  },
  {
   "cell_type": "code",
   "execution_count": 5,
   "metadata": {},
   "outputs": [
    {
     "name": "stdout",
     "output_type": "stream",
     "text": [
      "this is while loop printing\n",
      "this is while loop printing\n",
      "this is while loop printing\n",
      "this is while loop printing\n",
      "this is while loop printing\n",
      "this is while loop printing\n",
      "this is while loop printing\n",
      "this is while loop printing\n",
      "this is while loop printing\n",
      "this is while loop printing\n"
     ]
    }
   ],
   "source": [
    "c=0\n",
    "while c< 10:\n",
    "    print (\"this is while loop printing\")\n",
    "    c +=1"
   ]
  },
  {
   "cell_type": "code",
   "execution_count": 6,
   "metadata": {},
   "outputs": [],
   "source": [
    "g=37\n",
    "g +=1"
   ]
  },
  {
   "cell_type": "code",
   "execution_count": 7,
   "metadata": {},
   "outputs": [
    {
     "data": {
      "text/plain": [
       "38"
      ]
     },
     "execution_count": 7,
     "metadata": {},
     "output_type": "execute_result"
    }
   ],
   "source": [
    "g"
   ]
  },
  {
   "cell_type": "code",
   "execution_count": 8,
   "metadata": {},
   "outputs": [
    {
     "data": {
      "text/plain": [
       "39"
      ]
     },
     "execution_count": 8,
     "metadata": {},
     "output_type": "execute_result"
    }
   ],
   "source": [
    "g +=1\n",
    "g"
   ]
  },
  {
   "cell_type": "code",
   "execution_count": 9,
   "metadata": {},
   "outputs": [
    {
     "name": "stdout",
     "output_type": "stream",
     "text": [
      "enter your favourate foods bayani\n",
      "enter your favourate foods kuma\n",
      "enter your favourate foodsdal\n",
      "enter your favourate foods karhai\n",
      "enter your favourate foodssd\n",
      "enter your favourate foods fad\n",
      "enter your favourate foods sdgfd\n",
      "enter your favourate foodssdfsG\n",
      "enter your favourate foodssdg\n",
      "enter your favourate foodsgsdg\n"
     ]
    }
   ],
   "source": [
    "\n",
    "c=0\n",
    "while c< 10:\n",
    "    userinput = input(\"enter your favourate foods\")\n",
    "    c +=1"
   ]
  },
  {
   "cell_type": "code",
   "execution_count": 16,
   "metadata": {},
   "outputs": [
    {
     "name": "stdout",
     "output_type": "stream",
     "text": [
      "enter your favourate foods baryani \n",
      "enter your favourate foodskuma\n",
      "enter your favourate foods all pakistan food\n",
      "enter your favourate foodsstoop\n",
      "enter your favourate foodsstop\n"
     ]
    },
    {
     "data": {
      "text/plain": [
       "[' baryani ', 'kuma', ' all pakistan food', 'stoop']"
      ]
     },
     "execution_count": 16,
     "metadata": {},
     "output_type": "execute_result"
    }
   ],
   "source": [
    "flags =True\n",
    "favouritefoods=[]\n",
    "while flags:\n",
    "    userinput =input(\"enter your favourate foods\")\n",
    "    if userinput==\"stop\":\n",
    "        flags =False\n",
    "    else:\n",
    "        favouritefoods.append(userinput)\n",
    "favouritefoods\n",
    "    "
   ]
  },
  {
   "cell_type": "code",
   "execution_count": 19,
   "metadata": {},
   "outputs": [
    {
     "name": "stdout",
     "output_type": "stream",
     "text": [
      "enter diseases name chieken gonia\n",
      "enter diseases namecorona\n",
      "enter diseases name saas virus\n",
      "enter diseases namestop\n"
     ]
    },
    {
     "data": {
      "text/plain": [
       "[' chieken gonia', 'corona', ' saas virus']"
      ]
     },
     "execution_count": 19,
     "metadata": {},
     "output_type": "execute_result"
    }
   ],
   "source": [
    "new_diseases=[]\n",
    "diseases_data=True\n",
    "while diseases_data:\n",
    "    userinput =input(\"enter diseases name\")\n",
    "    if userinput==\"stop\":\n",
    "         diseases_data=False\n",
    "    else:\n",
    "        new_diseases.append(userinput)\n",
    "new_diseases\n",
    "    "
   ]
  },
  {
   "cell_type": "code",
   "execution_count": null,
   "metadata": {},
   "outputs": [],
   "source": []
  },
  {
   "cell_type": "code",
   "execution_count": null,
   "metadata": {},
   "outputs": [],
   "source": []
  },
  {
   "cell_type": "code",
   "execution_count": null,
   "metadata": {},
   "outputs": [],
   "source": []
  }
 ],
 "metadata": {
  "kernelspec": {
   "display_name": "Python 3",
   "language": "python",
   "name": "python3"
  },
  "language_info": {
   "codemirror_mode": {
    "name": "ipython",
    "version": 3
   },
   "file_extension": ".py",
   "mimetype": "text/x-python",
   "name": "python",
   "nbconvert_exporter": "python",
   "pygments_lexer": "ipython3",
   "version": "3.7.6"
  }
 },
 "nbformat": 4,
 "nbformat_minor": 4
}
