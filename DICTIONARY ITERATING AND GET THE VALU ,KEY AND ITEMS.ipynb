{
 "cells": [
  {
   "cell_type": "code",
   "execution_count": 1,
   "metadata": {},
   "outputs": [],
   "source": [
    "#dictionary iterating items MAEN LOOP get only key "
   ]
  },
  {
   "cell_type": "code",
   "execution_count": 2,
   "metadata": {},
   "outputs": [],
   "source": [
    "#for store_the _value in dic.value():get only value\n",
    "#for store_the_key in dic .keys():#get only key \n",
    "#for key, vaLue in dictionary.item(): get both key and value"
   ]
  },
  {
   "cell_type": "code",
   "execution_count": 3,
   "metadata": {},
   "outputs": [],
   "source": [
    "dic2={\"name\":\"ahmed\", \"f_name\":\"mohammad_ali\",'education':\"bs\" ,\"religon\":\"islam\"}"
   ]
  },
  {
   "cell_type": "code",
   "execution_count": 4,
   "metadata": {},
   "outputs": [
    {
     "name": "stdout",
     "output_type": "stream",
     "text": [
      "name\n",
      "f_name\n",
      "education\n",
      "religon\n"
     ]
    }
   ],
   "source": [
    "for ket in dic2.keys():\n",
    "    print(ket)"
   ]
  },
  {
   "cell_type": "code",
   "execution_count": 5,
   "metadata": {},
   "outputs": [
    {
     "name": "stdout",
     "output_type": "stream",
     "text": [
      "ahmed\n",
      "mohammad_ali\n",
      "bs\n",
      "islam\n"
     ]
    }
   ],
   "source": [
    "for value_of_key in dic2.values():\n",
    "    print(value_of_key)"
   ]
  },
  {
   "cell_type": "code",
   "execution_count": 6,
   "metadata": {},
   "outputs": [],
   "source": [
    "data_about_student={'name': 'syed ahmed','gender': 'male','age': 46,'email': 'syedahmedali093gmail.com'}"
   ]
  },
  {
   "cell_type": "code",
   "execution_count": 7,
   "metadata": {},
   "outputs": [
    {
     "name": "stdout",
     "output_type": "stream",
     "text": [
      "('name', 'syed ahmed')\n",
      "('gender', 'male')\n",
      "('age', 46)\n",
      "('email', 'syedahmedali093gmail.com')\n"
     ]
    }
   ],
   "source": [
    "for iformation in data_about_student.items():\n",
    "    print(iformation)"
   ]
  },
  {
   "cell_type": "code",
   "execution_count": 8,
   "metadata": {},
   "outputs": [],
   "source": [
    "dic2={'country':'pakistan', \"city\":\"karachi\", \"provences\":\"shindh\",\"adderess\":\"sector 7/b 424\",\"area\":\"orangi\"}"
   ]
  },
  {
   "cell_type": "code",
   "execution_count": 9,
   "metadata": {},
   "outputs": [
    {
     "name": "stdout",
     "output_type": "stream",
     "text": [
      "name\n",
      "gender\n",
      "age\n",
      "email\n"
     ]
    }
   ],
   "source": [
    "for iformations in data_about_student.keys():\n",
    "    print(iformations)"
   ]
  },
  {
   "cell_type": "code",
   "execution_count": 10,
   "metadata": {},
   "outputs": [
    {
     "name": "stdout",
     "output_type": "stream",
     "text": [
      "syed ahmed\n",
      "male\n",
      "46\n",
      "syedahmedali093gmail.com\n"
     ]
    }
   ],
   "source": [
    "for inform in data_about_student.values():\n",
    "    print(inform )"
   ]
  },
  {
   "cell_type": "code",
   "execution_count": 11,
   "metadata": {},
   "outputs": [],
   "source": [
    "data_about_student[\"batch\"] = \"jupyter\""
   ]
  },
  {
   "cell_type": "code",
   "execution_count": 12,
   "metadata": {},
   "outputs": [
    {
     "data": {
      "text/plain": [
       "{'name': 'syed ahmed',\n",
       " 'gender': 'male',\n",
       " 'age': 46,\n",
       " 'email': 'syedahmedali093gmail.com',\n",
       " 'batch': 'jupyter'}"
      ]
     },
     "execution_count": 12,
     "metadata": {},
     "output_type": "execute_result"
    }
   ],
   "source": [
    "data_about_student"
   ]
  },
  {
   "cell_type": "code",
   "execution_count": 13,
   "metadata": {},
   "outputs": [
    {
     "name": "stdout",
     "output_type": "stream",
     "text": [
      "('name', 'syed ahmed')\n",
      "('gender', 'male')\n",
      "('age', 46)\n",
      "('email', 'syedahmedali093gmail.com')\n",
      "('batch', 'jupyter')\n"
     ]
    }
   ],
   "source": [
    "for keyvalue in data_about_student.items():\n",
    "    print(keyvalue)"
   ]
  },
  {
   "cell_type": "code",
   "execution_count": 14,
   "metadata": {},
   "outputs": [
    {
     "data": {
      "text/plain": [
       "'syedahmedali093gmail.com'"
      ]
     },
     "execution_count": 14,
     "metadata": {},
     "output_type": "execute_result"
    }
   ],
   "source": [
    "data_about_student.get('email')"
   ]
  },
  {
   "cell_type": "code",
   "execution_count": 15,
   "metadata": {},
   "outputs": [
    {
     "data": {
      "text/plain": [
       "True"
      ]
     },
     "execution_count": 15,
     "metadata": {},
     "output_type": "execute_result"
    }
   ],
   "source": [
    "any(data_about_student)"
   ]
  },
  {
   "cell_type": "code",
   "execution_count": 16,
   "metadata": {},
   "outputs": [],
   "source": [
    "DICLIST=['name', 'subject', 'unit', 'area']\n",
    "DICLIST2=['speed', 'acelaretion', 'dimension',\"TIME\"]"
   ]
  },
  {
   "cell_type": "code",
   "execution_count": 17,
   "metadata": {},
   "outputs": [
    {
     "data": {
      "text/plain": [
       "{'name': 'speed',\n",
       " 'subject': 'acelaretion',\n",
       " 'unit': 'dimension',\n",
       " 'area': 'TIME'}"
      ]
     },
     "execution_count": 17,
     "metadata": {},
     "output_type": "execute_result"
    }
   ],
   "source": [
    "dict1=dict(zip(DICLIST,DICLIST2))\n",
    "dict1"
   ]
  },
  {
   "cell_type": "code",
   "execution_count": 19,
   "metadata": {},
   "outputs": [
    {
     "name": "stdout",
     "output_type": "stream",
     "text": [
      "name speed\n",
      "subject acelaretion\n",
      "unit dimension\n",
      "area TIME\n"
     ]
    }
   ],
   "source": [
    "for value,key in dict1 .items():\n",
    "    print(value,key)\n",
    "    "
   ]
  },
  {
   "cell_type": "code",
   "execution_count": null,
   "metadata": {},
   "outputs": [],
   "source": []
  }
 ],
 "metadata": {
  "kernelspec": {
   "display_name": "Python 3",
   "language": "python",
   "name": "python3"
  },
  "language_info": {
   "codemirror_mode": {
    "name": "ipython",
    "version": 3
   },
   "file_extension": ".py",
   "mimetype": "text/x-python",
   "name": "python",
   "nbconvert_exporter": "python",
   "pygments_lexer": "ipython3",
   "version": "3.7.6"
  }
 },
 "nbformat": 4,
 "nbformat_minor": 4
}
