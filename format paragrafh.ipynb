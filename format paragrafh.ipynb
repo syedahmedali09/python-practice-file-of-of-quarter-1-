{
 "cells": [
  {
   "cell_type": "code",
   "execution_count": 1,
   "metadata": {},
   "outputs": [],
   "source": [
    "#three type of string formation\n",
    "# + add method \n",
    "# f method\n",
    "# format method"
   ]
  },
  {
   "cell_type": "code",
   "execution_count": 2,
   "metadata": {},
   "outputs": [
    {
     "name": "stdout",
     "output_type": "stream",
     "text": [
      "my role_number and my course is AI\n"
     ]
    }
   ],
   "source": [
    "role_number = 100 \n",
    "course= \"AI\"\n",
    "print (\"my role_number and my course is AI\")"
   ]
  },
  {
   "cell_type": "code",
   "execution_count": 3,
   "metadata": {},
   "outputs": [
    {
     "name": "stdout",
     "output_type": "stream",
     "text": [
      "my role_number100and my course isAI\n"
     ]
    }
   ],
   "source": [
    "role_number = 100 \n",
    "course= \"AI\"\n",
    "print (\"my role_number\" +str(role_number)+ \"and my course is\" + course)"
   ]
  },
  {
   "cell_type": "code",
   "execution_count": 4,
   "metadata": {},
   "outputs": [
    {
     "name": "stdout",
     "output_type": "stream",
     "text": [
      "my role_number1000and my course iscnc\n"
     ]
    }
   ],
   "source": [
    "role_number = 1000 \n",
    "course= \"cnc\"\n",
    "print (\"my role_number\" +str(role_number)+ \"and my course is\" + course)"
   ]
  },
  {
   "cell_type": "code",
   "execution_count": 5,
   "metadata": {},
   "outputs": [
    {
     "name": "stdout",
     "output_type": "stream",
     "text": [
      "my rolenumber is 1000 and my is cnc\n"
     ]
    }
   ],
   "source": [
    "role_number = 1000 \n",
    "course= \"cnc\"\n",
    "print(f'my rolenumber is {role_number} and my is {course}')"
   ]
  },
  {
   "cell_type": "code",
   "execution_count": 6,
   "metadata": {},
   "outputs": [
    {
     "name": "stdout",
     "output_type": "stream",
     "text": [
      "my rolenumber is 1000 and my is AI and lives in karachi\n"
     ]
    }
   ],
   "source": [
    "role_number = 1000 \n",
    "course= \"AI\"\n",
    "city= \"karachi\"\n",
    "print(f'my rolenumber is {role_number} and my is {course} and lives in {city}')"
   ]
  },
  {
   "cell_type": "code",
   "execution_count": 7,
   "metadata": {},
   "outputs": [
    {
     "name": "stdout",
     "output_type": "stream",
     "text": [
      " my name is ahmed and my batch is AIC7 and course is  artificail_inteligence\n"
     ]
    }
   ],
   "source": [
    "name= \"ahmed\"\n",
    "batch=\"AIC7\"\n",
    "course= \"artificail_inteligence\"\n",
    "print(f' my name is {name} and my batch is {batch} and course is  {course}')"
   ]
  },
  {
   "cell_type": "code",
   "execution_count": 8,
   "metadata": {},
   "outputs": [
    {
     "data": {
      "text/plain": [
       "'my name is ahmed and my batch is AIC7 and course isartificail_inteligence'"
      ]
     },
     "execution_count": 8,
     "metadata": {},
     "output_type": "execute_result"
    }
   ],
   "source": [
    "\"my name is {} and my batch is {} and course is{}\".format(name,batch,course)"
   ]
  },
  {
   "cell_type": "code",
   "execution_count": 9,
   "metadata": {},
   "outputs": [
    {
     "data": {
      "text/plain": [
       "'my name is artificail_inteligence and my batch is ahmed and course isAIC7'"
      ]
     },
     "execution_count": 9,
     "metadata": {},
     "output_type": "execute_result"
    }
   ],
   "source": [
    "\"my name is {2} and my batch is {0} and course is{1}\".format(name,batch,course)"
   ]
  },
  {
   "cell_type": "code",
   "execution_count": 10,
   "metadata": {},
   "outputs": [
    {
     "data": {
      "text/plain": [
       "'my name is artificail_inteligence and my batch is AIC7 and course isAIC7'"
      ]
     },
     "execution_count": 10,
     "metadata": {},
     "output_type": "execute_result"
    }
   ],
   "source": [
    "\"my name is {2} and my batch is {1} and course is{1}\".format(name,batch,course)"
   ]
  },
  {
   "cell_type": "code",
   "execution_count": null,
   "metadata": {},
   "outputs": [],
   "source": []
  }
 ],
 "metadata": {
  "kernelspec": {
   "display_name": "Python 3",
   "language": "python",
   "name": "python3"
  },
  "language_info": {
   "codemirror_mode": {
    "name": "ipython",
    "version": 3
   },
   "file_extension": ".py",
   "mimetype": "text/x-python",
   "name": "python",
   "nbconvert_exporter": "python",
   "pygments_lexer": "ipython3",
   "version": "3.7.6"
  }
 },
 "nbformat": 4,
 "nbformat_minor": 4
}
